{
 "cells": [
  {
   "cell_type": "code",
   "execution_count": 1,
   "metadata": {},
   "outputs": [],
   "source": [
    "class RBNode:\n",
    "\n",
    "    def __init__(self, value):\n",
    "        self.value = value\n",
    "        self.left = None\n",
    "        self.right = None\n",
    "        self.parent = None\n",
    "        self.colour = \"R\"\n",
    "\n",
    "    def get_uncle(self):\n",
    "        return\n",
    "\n",
    "    def is_leaf(self):\n",
    "        return self.left == None and self.right == None\n",
    "\n",
    "    def is_left_child(self):\n",
    "        return self == self.parent.left\n",
    "\n",
    "    def is_right_child(self):\n",
    "        return not self.is_left_child()\n",
    "\n",
    "    def is_red(self):\n",
    "        return self.colour == \"R\"\n",
    "\n",
    "    def is_black(self):\n",
    "        return not self.is_red()\n",
    "\n",
    "    def make_black(self):\n",
    "        self.colour = \"B\"\n",
    "\n",
    "    def make_red(self):\n",
    "        self.colour = \"R\"\n",
    "\n",
    "    def get_brother(self):\n",
    "        if self.parent.right == self:\n",
    "            return self.parent.left\n",
    "        return self.parent.right\n",
    "\n",
    "    def get_uncle(self):\n",
    "        return self.parent.get_brother()\n",
    "\n",
    "    def uncle_is_black(self):\n",
    "        if self.get_uncle() == None:\n",
    "            return True\n",
    "        return self.get_uncle().is_black()\n",
    "\n",
    "    def __str__(self):\n",
    "        return \"(\" + str(self.value) + \",\" + self.colour + \")\"\n",
    "\n",
    "    def __repr__(self):\n",
    "         return \"(\" + str(self.value) + \",\" + self.colour + \")\"\n",
    "\n",
    "    def rotate_right(self):\n",
    "        #TODO\n",
    "        return 0\n",
    "\n",
    "    def rotate_left(self):\n",
    "        #TODO\n",
    "        return 0\n",
    "                    \n",
    "        \n",
    "    "
   ]
  },
  {
   "cell_type": "code",
   "execution_count": 2,
   "metadata": {},
   "outputs": [
    {
     "ename": "IndentationError",
     "evalue": "expected an indented block after 'while' statement on line 46 (87019639.py, line 48)",
     "output_type": "error",
     "traceback": [
      "\u001b[0;36m  Cell \u001b[0;32mIn[2], line 48\u001b[0;36m\u001b[0m\n\u001b[0;31m    self.root.make_black()\u001b[0m\n\u001b[0m    ^\u001b[0m\n\u001b[0;31mIndentationError\u001b[0m\u001b[0;31m:\u001b[0m expected an indented block after 'while' statement on line 46\n"
     ]
    }
   ],
   "source": [
    "class RBTree:\n",
    "\n",
    "    def __init__(self,):\n",
    "        self.root = None\n",
    "\n",
    "    def is_empty(self,):\n",
    "        return self.root == None\n",
    "\n",
    "    def get_height(self,):\n",
    "        if self.is_empty():\n",
    "            return 0\n",
    "        return self.__get_height(self.root)\n",
    "\n",
    "    def __get_height(self, node):\n",
    "        if node == None:\n",
    "            return 0\n",
    "        return 1 + max(self.__get_height(node.left), self.__get_height(node.right))\n",
    "\n",
    "    def insert(self, value):\n",
    "        if self.is_empty():\n",
    "            self.root = RBNode(value)\n",
    "            self.root.make_black()\n",
    "        else:\n",
    "            self.__insert(self.root, value)\n",
    "\n",
    "    def __insert(self, node, value):\n",
    "        if value < node.value:\n",
    "            if node.left == None:\n",
    "                node.left = RBNode(value)\n",
    "                node.left.parent = node\n",
    "                self.fix(node.left)\n",
    "            else:\n",
    "                self.__insert(node.left, value)\n",
    "        else:\n",
    "            if node.right == None:\n",
    "                node.right = RBNode(value)\n",
    "                node.right.parent = node\n",
    "                self.fix(node.right)\n",
    "            else:\n",
    "                self.__insert(node.right, value)\n",
    "\n",
    "    def fix(self, node):\n",
    "        #You may alter code in this method if you wish, it's merely a guide.\n",
    "        if node.parent == None:\n",
    "            node.make_black()\n",
    "        while node != None and node.parent != None and node.parent.is_red(): \n",
    "            #TODO\n",
    "        self.root.make_black()\n",
    "\n",
    "    def __str__(self):\n",
    "        if self.is_empty():\n",
    "            return \"[]\"\n",
    "        return \"[\" + self.__str_helper(self.root) + \"]\"\n",
    "\n",
    "    def __str_helper(self, node):\n",
    "        if node.is_leaf():\n",
    "            return \"[\" + str(node) + \"]\"\n",
    "        if node.left == None:\n",
    "            return \"[\" + str(node) + \" -> \" + self.__str_helper(node.right) + \"]\"\n",
    "        if node.right == None:\n",
    "            return \"[\" +  self.__str_helper(node.left) + \" <- \" + str(node) + \"]\"\n",
    "        return \"[\" + self.__str_helper(node.left) + \" <- \" + str(node) + \" -> \" + self.__str_helper(node.right) + \"]\"\n"
   ]
  },
  {
   "cell_type": "markdown",
   "metadata": {},
   "source": [
    "# Part 1: Implementing and Analyzing Red-Black Trees\n",
    "\n",
    "In your 2C03 lectures, you have studied Red-Black Trees (RBT) and seen (at least in theory) how they are implemented. If you do not remember them or never studied them, now is the time. Given in the notebook is a partial implementation of Red-Black Trees with three methods `rotate_left()`, `rotate_right()`, and `fix()`. `rotate_left` performs the operation of rotating the node left and `rotate_right` performs the operation of rotating the node right. The nodes also point back to their parents, and the `fix` method updates the tree once the rotation has been made.\n"
   ]
  },
  {
   "cell_type": "markdown",
   "metadata": {},
   "source": [
    "In this exercise, complete these implementations by enforcing the properties of Binary Search Trees that make it an RBT. Two of these properties are:\n",
    "\n",
    "- Red nodes cannot have red children.\n",
    "- All simple paths from the root to a leaf must contain the same number of black nodes.\n",
    "\n",
    "Every time you insert an element in the tree, the above properties get violated and need to be fixed.\n"
   ]
  },
  {
   "cell_type": "code",
   "execution_count": null,
   "metadata": {},
   "outputs": [],
   "source": []
  },
  {
   "cell_type": "markdown",
   "metadata": {},
   "source": [
    "## Part 1.2\n",
    "In this section, you will compare your implementation against traditional implementations. Take ALL the\n",
    "Binary Search implementations we have discussed in the first few weeks and design an experiment to\n",
    "compare the performance against your dynamic implementation.\n",
    "In your reflection section, describe in detail the experiment design, what are the various list sizes and the\n",
    "number of trials you chose. Also, describe your observations. Did you notice any performance\n",
    "improvement? When does dynamic binary search outperform others? When is it an overkill? Describe in\n",
    "detail your experiments design, and the observations."
   ]
  },
  {
   "cell_type": "code",
   "execution_count": null,
   "metadata": {},
   "outputs": [],
   "source": []
  },
  {
   "cell_type": "markdown",
   "metadata": {},
   "source": [
    "## Part 1.3\n",
    "In this experiment, generate a perfectly sorted list and record the difference between the height of the two\n",
    "trees for multiple rounds. Then create different versions of the list varying the level of “unsortedness”\n",
    "(like you have done in previous labs with near-sorted lists and unsorted lists). You can use controlled\n",
    "quicksort to create these versions of near-sorted list. In your reflection, describe the experiment design,\n",
    "and the runs, and show in the graph how the “degree of sortedness” impacts the height of the two trees.\n",
    "Refer to the swap count experiment you ran to determine the degree of sortedness. Write a detailed\n",
    "reflection on what you observe and why it might happen."
   ]
  },
  {
   "cell_type": "code",
   "execution_count": null,
   "metadata": {},
   "outputs": [],
   "source": []
  },
  {
   "cell_type": "markdown",
   "metadata": {},
   "source": [
    "## Part 2: Making Binary Search Dynamic\n",
    "Binary search of a sorted array takes logarithmic search time. However, if you notice closely, the\n",
    "insertion of new element takes linear time. By keeping several sorted arrays, you can improve the time for\n",
    "insertion. For instance, you can SEARCH and INSERT separately on a set of n values. It can go\n",
    "something like this for a set of n elements"
   ]
  },
  {
   "cell_type": "markdown",
   "metadata": {},
   "source": [
    "## Part 2.1\n",
    "Implement the SEARCH, INSERT and DELETE operations for binary search using the above\n",
    "description. For this, the code has not been provided. Feel free to go back to previous labs and use the\n",
    "Binary Search implementations discussed there, to build on."
   ]
  },
  {
   "cell_type": "code",
   "execution_count": null,
   "metadata": {},
   "outputs": [],
   "source": []
  },
  {
   "cell_type": "markdown",
   "metadata": {},
   "source": [
    "## Part 2.2\n",
    "\n",
    "In this section, you will compare your implementation against traditional implementations. Take ALL the\n",
    "Binary Search implementations we have discussed in the first few weeks and design an experiment to\n",
    "compare the performance against your dynamic implementation.\n",
    "In your reflection section, describe in detail the experiment design, what are the various list sizes and the\n",
    "number of trials you chose. Also, describe your observations. Did you notice any performance\n",
    "improvement? When does dynamic binary search outperform others? When is it an overkill? Describe in\n",
    "detail your experiments design, and the observations.\n"
   ]
  },
  {
   "cell_type": "code",
   "execution_count": null,
   "metadata": {},
   "outputs": [],
   "source": []
  }
 ],
 "metadata": {
  "kernelspec": {
   "display_name": "base",
   "language": "python",
   "name": "python3"
  },
  "language_info": {
   "codemirror_mode": {
    "name": "ipython",
    "version": 3
   },
   "file_extension": ".py",
   "mimetype": "text/x-python",
   "name": "python",
   "nbconvert_exporter": "python",
   "pygments_lexer": "ipython3",
   "version": "3.9.12"
  }
 },
 "nbformat": 4,
 "nbformat_minor": 2
}
