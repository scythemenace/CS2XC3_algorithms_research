{
 "cells": [
  {
   "cell_type": "markdown",
   "metadata": {},
   "source": [
    "# Computer Science 2XC3 - Graded Lab II"
   ]
  },
  {
   "cell_type": "markdown",
   "metadata": {},
   "source": [
    "Please refer to the pdf for detailed instructions. The below file contains all the preliminary code you will need to work on the lab. You can copy paste instructions here to create one cohesive lab and organize it that best suits your teams workflow. "
   ]
  },
  {
   "cell_type": "code",
   "execution_count": 22,
   "metadata": {},
   "outputs": [],
   "source": [
    "import random\n",
    "import timeit \n",
    "import matplotlib.pyplot as plt\n",
    "import numpy as np\n",
    "import math\n",
    "from collections import deque\n",
    "from itertools import combinations"
   ]
  },
  {
   "cell_type": "code",
   "execution_count": 4,
   "metadata": {},
   "outputs": [],
   "source": [
    "class GraphI:\n",
    "\n",
    "    # using hash map\n",
    "    def __init__(self, edges):\n",
    "        self.graph = {}\n",
    "        for x,y in edges:\n",
    "            if x not in self.graph.keys():\n",
    "                self.graph[x]=[]\n",
    "            self.graph[x].append(y)\n",
    "\n",
    "    def has_edge(self, src, dst):\n",
    "        return src in self.graph[dst]\n",
    "\n",
    "    def get_graph_size(self,):\n",
    "        return len(self.graph)\n",
    "    \n",
    "    def get_graph(self,):\n",
    "        return self.graph"
   ]
  },
  {
   "cell_type": "code",
   "execution_count": 5,
   "metadata": {},
   "outputs": [],
   "source": [
    "class GraphII:\n",
    "\n",
    "    # using adjacency list\n",
    "    def __init__(self, nodes):\n",
    "        self.graph = []\n",
    "        # node numbered 0-1\n",
    "        for node in range(nodes):\n",
    "            self.graph.append([])\n",
    "        \n",
    "    def has_edge(self, src, dst):\n",
    "        return src in self.graph[dst]\n",
    "    \n",
    "    def add_edge(self,src,dst):\n",
    "        if not self.has_edge(src,dst):\n",
    "            self.graph[src].append(dst)\n",
    "            self.graph[dst].append(src)\n",
    "    \n",
    "    def get_graph(self,):\n",
    "        return self.graph"
   ]
  },
  {
   "cell_type": "code",
   "execution_count": 6,
   "metadata": {},
   "outputs": [],
   "source": [
    "class GraphIII:\n",
    "\n",
    "    def __init__(self, edges):\n",
    "        self.graph = {}\n",
    "        for x, y in edges:\n",
    "            self.add_edge(x, y)\n",
    "\n",
    "    def add_edge(self, src, dst):\n",
    "        if src not in self.graph:\n",
    "            self.graph[src] = []\n",
    "        if dst not in self.graph:\n",
    "            self.graph[dst] = []\n",
    "        if dst not in self.graph[src]:\n",
    "            self.graph[src].append(dst)\n",
    "        if src not in self.graph[dst]:\n",
    "            self.graph[dst].append(src)\n",
    "\n",
    "    def remove_edge(self, src, dst):\n",
    "        if src in self.graph and dst in self.graph[src]:\n",
    "            self.graph[src].remove(dst)\n",
    "        if dst in self.graph and src in self.graph[dst]:\n",
    "            self.graph[dst].remove(src)\n",
    "\n",
    "    def get_vertices(self):\n",
    "        return list(self.graph.keys())\n",
    "\n",
    "    def get_neighbors(self, vertex):\n",
    "        return self.graph.get(vertex, [])\n",
    "\n",
    "    def get_edges(self):\n",
    "        edges = []\n",
    "        for vertex, neighbors in self.graph.items():\n",
    "            for neighbor in neighbors:\n",
    "                if (vertex, neighbor) not in edges and (neighbor, vertex) not in edges:\n",
    "                    edges.append((vertex, neighbor))\n",
    "        return edges\n",
    "\n",
    "    # Check if an edge exists between two vertices\n",
    "    def has_edge(self, src, dst):\n",
    "        return dst in self.graph.get(src, [])\n",
    "    def remove_vertex(self, vertex):\n",
    "        # Remove the vertex from the graph\n",
    "        if vertex in self.graph:\n",
    "            # Remove all edges incident to this vertex\n",
    "            for neighbor in self.graph[vertex]:\n",
    "                self.graph[neighbor].remove(vertex)\n",
    "            del self.graph[vertex]  # Remove the vertex itself\n",
    "\n",
    "    def get_graph(self,):\n",
    "        return self.graph"
   ]
  },
  {
   "cell_type": "code",
   "execution_count": 7,
   "metadata": {},
   "outputs": [],
   "source": [
    "def depth_first_search(G,node,end_point=None):\n",
    "    stack = [node]\n",
    "    graph = G.get_graph()\n",
    "    seen=set()\n",
    "\n",
    "    while len(stack) !=0:\n",
    "        node = stack.pop()\n",
    "        # search for neighbours in graph\n",
    "        if node not in seen:\n",
    "            seen.add(node)\n",
    "            print(\"Visited node:\" + str(node))\n",
    "            # if the given node has an edge\n",
    "            if node in graph.keys():\n",
    "                # iterate over edges of node\n",
    "                for nn in graph[node]:\n",
    "\n",
    "                    # limited traversal\n",
    "                    if nn == end_point:\n",
    "                        return True\n",
    "                    # add to stack\n",
    "                    stack.append(nn)"
   ]
  },
  {
   "cell_type": "code",
   "execution_count": 8,
   "metadata": {},
   "outputs": [],
   "source": [
    "#Breadth First Search\n",
    "def breadth_first_search(G, node):\n",
    "    stack = [node]\n",
    "    graph = G.get_graph()\n",
    "    seen=set()\n",
    "\n",
    "    seen.add(node)\n",
    "\n",
    "    while len(stack) > 0:\n",
    "        node = stack[0]\n",
    "        stack = stack[1:]\n",
    "        print(\"Visiting node: \" + str(node))\n",
    "        if node in graph.keys():\n",
    "            for nn in graph[node]:\n",
    "                #if node == node2:\n",
    "                #    return True\n",
    "                if nn not in seen:\n",
    "                    stack.append(nn)\n",
    "                \n",
    "                    seen.add(nn)"
   ]
  },
  {
   "cell_type": "code",
   "execution_count": 9,
   "metadata": {},
   "outputs": [],
   "source": [
    "#Use the methods below to determine minimum vertex covers\n",
    "\n",
    "def add_to_each(sets, element):\n",
    "    copy = sets.copy()\n",
    "    for set in copy:\n",
    "        set.append(element)\n",
    "    return copy\n",
    "\n",
    "def power_set(set):\n",
    "    if set == []:\n",
    "        return [[]]\n",
    "    return power_set(set[1:]) + add_to_each(power_set(set[1:]), set[0])\n",
    "\n",
    "def is_vertex_cover(G, C):\n",
    "    for start in G.adj:\n",
    "        for end in G.adj[start]:\n",
    "            if not(start in C or end in C):\n",
    "                return False\n",
    "    return True\n",
    "\n",
    "def MVC(G):\n",
    "    nodes = [i for i in range(G.get_size())]\n",
    "    subsets = power_set(nodes)\n",
    "    min_cover = nodes\n",
    "    for subset in subsets:\n",
    "        if is_vertex_cover(G, subset):\n",
    "            if len(subset) < len(min_cover):\n",
    "                min_cover = subset\n",
    "    return min_cover\n"
   ]
  },
  {
   "cell_type": "code",
   "execution_count": 10,
   "metadata": {},
   "outputs": [],
   "source": [
    "#New implementation according to GraphIII, for Part 2\n",
    "\n",
    "def add_to_each(sets, element):\n",
    "    copy = sets.copy()\n",
    "    for subset in copy:\n",
    "        subset.append(element)\n",
    "    return copy\n",
    "\n",
    "def power_set(input_set):\n",
    "    if not input_set:\n",
    "        return [[]]\n",
    "    rest_power_set = power_set(input_set[1:])\n",
    "    return rest_power_set + add_to_each(rest_power_set, input_set[0])\n",
    "\n",
    "def is_vertex_cover(graph, cover):\n",
    "    for start in graph.get_vertices():\n",
    "        for end in graph.get_neighbors(start):\n",
    "            if not(start in cover or end in cover):\n",
    "                return False\n",
    "    return True\n",
    "\n",
    "def MVC(graph):\n",
    "    nodes = graph.get_vertices()\n",
    "    subsets = power_set(nodes)\n",
    "    min_cover = nodes\n",
    "    for subset in subsets:\n",
    "        if is_vertex_cover(graph, subset):\n",
    "            if len(subset) < len(min_cover):\n",
    "                min_cover = subset\n",
    "    return min_cover"
   ]
  },
  {
   "cell_type": "markdown",
   "metadata": {},
   "source": [
    "### Part 1\n",
    "\n",
    "In class, we discussed a simple implementation of the undirected and non-weighted version of the graph.\n",
    "We also talked about the directed graph implementation where both the path between “src” and “dst”\n",
    "nodes is stored. We will also discuss how to search if a node exists in a graph using Breadth First Search\n",
    "(BFS) and Depth First Search (DFS). Using these techniques, the functions we discussed return True if\n",
    "the path exists between 2 nodes, otherwise it returns false.\n",
    "\n",
    "#\n",
    "This implementation is limiting since not much can be accomplished with True and False. In this lab,\n",
    "implement two variations of BFS and DFS"
   ]
  },
  {
   "cell_type": "markdown",
   "metadata": {},
   "source": [
    "### Part 1.1\n",
    "\n",
    "\n",
    "Implement BFS2 and DFS2 where the path between two nodes node1 and node2 is returned as a\n",
    "list. For instance, in a graph, if to reach node 8 from node 6, one needs to traverse the path starting at 6 to\n",
    "23, to 12, then to 5, then to 10, and finally to 8, your function BFS2(graph, 6,8) (or DFS2(graph, 6,8))\n",
    "should return a list [6,23,12,5,10,8]. Implement both BFS2 and DFS2 for this variation.\n"
   ]
  },
  {
   "cell_type": "code",
   "execution_count": 11,
   "metadata": {},
   "outputs": [],
   "source": [
    "def BFS2(G, start, end):\n",
    "    visited = set()\n",
    "    queue = deque([(start, [start])])\n",
    "    \n",
    "    while queue:\n",
    "        vertex, path = queue.popleft()\n",
    "        visited.add(vertex)\n",
    "        \n",
    "        if vertex == end:\n",
    "            return path\n",
    "        \n",
    "        for neighbor in G.get_neighbors(vertex):\n",
    "            if neighbor not in visited:\n",
    "                queue.append((neighbor, path + [neighbor]))\n",
    "    \n",
    "    return None  # No path found\n",
    "\n",
    "def DFS2(G, start, end):\n",
    "    visited = set()\n",
    "    stack = [(start, [start])]\n",
    "    \n",
    "    while stack:\n",
    "        vertex, path = stack.pop()\n",
    "        visited.add(vertex)\n",
    "        \n",
    "        if vertex == end:\n",
    "            return path\n",
    "        \n",
    "        for neighbor in G.get_neighbors(vertex):\n",
    "            if neighbor not in visited:\n",
    "                stack.append((neighbor, path + [neighbor]))\n",
    "    \n",
    "    return None  # No path found\n"
   ]
  },
  {
   "cell_type": "code",
   "execution_count": 12,
   "metadata": {},
   "outputs": [
    {
     "name": "stdout",
     "output_type": "stream",
     "text": [
      "BFS Path: [6, 12]\n",
      "DFS Path: [6, 12, 10]\n"
     ]
    }
   ],
   "source": [
    "# Create the graph\n",
    "edges = [(6, 23), (6, 12), (12, 5), (12, 10), (23, 8)]\n",
    "graph = GraphIII(edges)\n",
    "\n",
    "# Find the path from node 6 to node 8 using BFS\n",
    "path_bfs = BFS2(graph, 6, 12)\n",
    "print(\"BFS Path:\", path_bfs)\n",
    "\n",
    "# Find the path from node 6 to node 8 using DFS\n",
    "path_dfs = DFS2(graph, 6, 10)\n",
    "print(\"DFS Path:\", path_dfs)\n",
    "\n"
   ]
  },
  {
   "cell_type": "markdown",
   "metadata": {},
   "source": [
    "### Part 1.2\n",
    "In some applications, we need to find connections from a given node to all nodes. Think about\n",
    "how one might find recommendations for possible connections on social media platforms. In this\n",
    "variation implement BFS3 and DFS3 which take as an input 1 node and return paths to every other node\n",
    "(note that this is different from all paths between all nodes. Your goal is to find a path to a node). These\n",
    "paths should be returned as a “predecessor dictionary”. Predecessor dictionary contains the key as the\n",
    "node and the value as the predecessor node. For example, for the following graph, your implementation of\n",
    "BFS3(graph, 1) will return the predecessor dictionary as: {2 : 1, 3 : 1, 4 : 2, 5 : 3, 6 : 4}\n",
    "Now it is possible to reconstruct the path from this dictionary by simply connecting the predecessors of\n",
    "each node backward. So the path from 1 to 6 is 1 -> 2 -> 4 -> 6. If there is no path between 2 nodes there\n",
    "will be no entry in the dictionary corresponding to that.\n",
    "\n"
   ]
  },
  {
   "cell_type": "code",
   "execution_count": 13,
   "metadata": {},
   "outputs": [],
   "source": [
    "def BFS3(G, start):\n",
    "        predecessor = {}\n",
    "        visited = set()\n",
    "        queue = deque([start])\n",
    "        \n",
    "        while queue:\n",
    "            vertex = queue.popleft()\n",
    "            visited.add(vertex)\n",
    "            \n",
    "            for neighbor in G.get_neighbors(vertex):\n",
    "                if neighbor not in visited:\n",
    "                    queue.append(neighbor)\n",
    "                    predecessor[neighbor] = vertex\n",
    "        \n",
    "        return predecessor\n",
    "\n",
    "def DFS3(G, start):\n",
    "    predecessor = {}\n",
    "    visited = set()\n",
    "    stack = [start]\n",
    "    \n",
    "    while stack:\n",
    "        vertex = stack.pop()\n",
    "        visited.add(vertex)\n",
    "        \n",
    "        for neighbor in G.get_neighbors(vertex):\n",
    "            if neighbor not in visited:\n",
    "                stack.append(neighbor)\n",
    "                predecessor[neighbor] = vertex\n",
    "    \n",
    "    return predecessor"
   ]
  },
  {
   "cell_type": "code",
   "execution_count": 14,
   "metadata": {},
   "outputs": [
    {
     "name": "stdout",
     "output_type": "stream",
     "text": [
      "BFS Path: {23: 6, 12: 6, 8: 23, 5: 12, 10: 12}\n",
      "DFS Path: {6: 23, 8: 23, 12: 6, 5: 12, 10: 12}\n"
     ]
    }
   ],
   "source": [
    "# Create the graph\n",
    "edges = [(6, 23), (6, 12), (12, 5), (12, 10), (23, 8)]\n",
    "graph = GraphIII(edges)\n",
    "\n",
    "# Find the path from node 6 to node 8 using BFS\n",
    "path_bfs = BFS3(graph, 6)\n",
    "print(\"BFS Path:\", path_bfs)\n",
    "\n",
    "# Find the path from node 6 to node 8 using DFS\n",
    "path_dfs = DFS3(graph, 23)\n",
    "print(\"DFS Path:\", path_dfs)"
   ]
  },
  {
   "cell_type": "markdown",
   "metadata": {},
   "source": [
    "### Part 1.3\n",
    " Implement a function in the graph class called has_cycle( ) that computes and returns True if\n",
    "the graph has a cycle.\n"
   ]
  },
  {
   "cell_type": "code",
   "execution_count": 15,
   "metadata": {},
   "outputs": [],
   "source": [
    "def dfs_cycle(G, v, visited, parent):\n",
    "\n",
    "    visited[v] = True\n",
    "    \n",
    "    for w in G.get_neighbors(v):\n",
    "        if visited[w] == False:\n",
    "            if(dfs_cycle(G, w, visited, v)):\n",
    "                return True\n",
    "            \n",
    "        elif parent != w:\n",
    "            return True\n",
    "\n",
    "    return False\n",
    "\n",
    "\n",
    "def has_cycle(G):\n",
    "\n",
    "    visited = [False]*(max(G.get_vertices()) + 1)\n",
    "\n",
    "    for i in G.get_vertices():\n",
    "        if visited[i] == False:\n",
    "            if(dfs_cycle(G, i, visited, -1)) == True:\n",
    "                return True\n",
    "\n",
    "    return False"
   ]
  },
  {
   "cell_type": "code",
   "execution_count": 16,
   "metadata": {},
   "outputs": [
    {
     "name": "stdout",
     "output_type": "stream",
     "text": [
      "{6: [23, 12], 23: [6, 8], 12: [6, 5, 10], 5: [12], 10: [12], 8: [23]}\n",
      "has cycle? False\n"
     ]
    }
   ],
   "source": [
    "edges = [(6, 23), (6, 12), (12, 5), (12, 10), (23, 8)]\n",
    "graph = GraphIII(edges)\n",
    "print(graph.get_graph())\n",
    "\n",
    "print(\"has cycle?\", has_cycle(graph))"
   ]
  },
  {
   "cell_type": "markdown",
   "metadata": {},
   "source": [
    "### Part 1.4\n",
    "Implement a function in graph class called is_connected( ) that computes and returns True if\n",
    "there is a path between two nodes. Note that this is different from what we discussed in class ( has_edge()\n",
    "). While has_edge finds whether an edge exists between two nodes, is_connected finds whether there is a\n",
    "path between two nodes.\n"
   ]
  },
  {
   "cell_type": "code",
   "execution_count": 17,
   "metadata": {},
   "outputs": [],
   "source": [
    "def is_connected(G):\n",
    "\n",
    "    def dfs(v):\n",
    "        nonlocal count\n",
    "\n",
    "        marked[v] = True\n",
    "        id[v] = count\n",
    "\n",
    "        for w in G.get_neighbors(v):\n",
    "            if not marked[w]:\n",
    "                dfs(w)\n",
    "\n",
    "    marked = [False] * (max(G.get_vertices()) + 1)\n",
    "    id = [-1] * (max(G.get_vertices()) + 1)\n",
    "    count = 0\n",
    "\n",
    "    for s in G.get_vertices():\n",
    "        if not marked[s]:\n",
    "            dfs(s)\n",
    "            count += 1\n",
    "\n",
    "    return count == 1"
   ]
  },
  {
   "cell_type": "code",
   "execution_count": 18,
   "metadata": {},
   "outputs": [
    {
     "name": "stdout",
     "output_type": "stream",
     "text": [
      "{6: [23, 12], 23: [6, 8], 12: [6, 5, 10], 5: [12], 10: [12], 8: [23]}\n",
      "is connected? True\n"
     ]
    }
   ],
   "source": [
    "edges = [(6, 23), (6, 12), (12, 5), (12, 10), (23, 8)]\n",
    "graph = GraphIII(edges)\n",
    "print(graph.get_graph())\n",
    "\n",
    "print(\"is connected?\", is_connected(graph))"
   ]
  },
  {
   "cell_type": "markdown",
   "metadata": {},
   "source": [
    "### Part 1.5\n",
    "In the previous lab we conducted a few experiments using a random list generator that I\n",
    "provided. What would that look like for a graph? To experiment with graphs, you want to be able to\n",
    "generate random graphs. Write a function to do so. The way to approach this is to think about the\n",
    "essential elements of the graph nodes (n) and edges (e). So when you call the function\n",
    "create_random_graph(n,e), it should create a random layout with only a single edge between two nodes"
   ]
  },
  {
   "cell_type": "code",
   "execution_count": 19,
   "metadata": {},
   "outputs": [],
   "source": [
    "def create_random_graph(n, e):\n",
    "    if e > n * (n - 1) // 2:\n",
    "        raise ValueError(\"Too many edges for the number of nodes\")\n",
    "\n",
    "    nodes = list(range(n))\n",
    "    edges = []\n",
    "    \n",
    "    # Randomly shuffle the nodes to create randomness\n",
    "    random.shuffle(nodes)\n",
    "\n",
    "    for i in range(e):\n",
    "        src = nodes[i % n]\n",
    "        dst = nodes[(i + 1) % n]  # Ensure that each node has at least one edge\n",
    "        temp_tuple = (src, dst)\n",
    "        edges.append(temp_tuple)\n",
    "\n",
    "    graph = GraphIII(edges)\n",
    "    return graph"
   ]
  },
  {
   "cell_type": "code",
   "execution_count": 20,
   "metadata": {},
   "outputs": [
    {
     "name": "stdout",
     "output_type": "stream",
     "text": [
      "Random graph: {9: [5], 5: [9, 4], 4: [5, 8], 8: [4, 7], 7: [8, 6], 6: [7, 2], 2: [6, 3], 3: [2, 1], 1: [3, 0], 0: [1]}\n",
      "is connected? True\n",
      "has_cycle? False\n"
     ]
    }
   ],
   "source": [
    "n = 10  # Number of nodes\n",
    "e = 9 # Number of edges\n",
    "random_graph = create_random_graph(n, e)\n",
    "print(\"Random graph:\", random_graph.get_graph())\n",
    "\n",
    "print(\"is connected?\", is_connected(random_graph))\n",
    "print(\"has_cycle?\", has_cycle(random_graph))"
   ]
  },
  {
   "cell_type": "markdown",
   "metadata": {},
   "source": [
    "### Part 1.6\n",
    " By now, you should have a good understanding of how to design an experiment to answer a\n",
    "question. In this part, design an experiment to compute the probability of a graph having a cycle, when\n",
    "you generate a random graph with n nodes and e edges. This is an open-ended question so think about\n",
    "how you would design the experiment.\n",
    "HINT: Create a sufficiently large number of graphs using a fixed number of nodes (or edges??). compute\n",
    "for each graph, whether or not it has a cycle (you have already written this function in the previous\n",
    "section). Then calculate what proportion of the random graphs had cycles.\n",
    "As usual, there are multiple ways you can approach this problem, so be creative. In your reflection,\n",
    "describe your experiment design, the number of iterations you ran, why you chose a specific experiment\n",
    "design etc. You can run this experiment multiple times and your graph should show the probability\n",
    "computed in each iteration."
   ]
  },
  {
   "cell_type": "code",
   "execution_count": 21,
   "metadata": {},
   "outputs": [
    {
     "ename": "TypeError",
     "evalue": "'float' object cannot be interpreted as an integer",
     "output_type": "error",
     "traceback": [
      "\u001b[0;31m---------------------------------------------------------------------------\u001b[0m",
      "\u001b[0;31mTypeError\u001b[0m                                 Traceback (most recent call last)",
      "Cell \u001b[0;32mIn[21], line 15\u001b[0m\n\u001b[1;32m     12\u001b[0m edge_probabilities \u001b[38;5;241m=\u001b[39m [i \u001b[38;5;241m/\u001b[39m \u001b[38;5;241m10\u001b[39m \u001b[38;5;28;01mfor\u001b[39;00m i \u001b[38;5;129;01min\u001b[39;00m \u001b[38;5;28mrange\u001b[39m(\u001b[38;5;241m1\u001b[39m, \u001b[38;5;241m10\u001b[39m)]  \u001b[38;5;66;03m# Probability of edge creation\u001b[39;00m\n\u001b[1;32m     14\u001b[0m \u001b[38;5;66;03m# Running the experiment for different probabilities\u001b[39;00m\n\u001b[0;32m---> 15\u001b[0m cycle_probabilities \u001b[38;5;241m=\u001b[39m [experiment_cycle_probability(num_graphs, n, p) \u001b[38;5;28;01mfor\u001b[39;00m p \u001b[38;5;129;01min\u001b[39;00m edge_probabilities]\n\u001b[1;32m     17\u001b[0m \u001b[38;5;66;03m# Plotting\u001b[39;00m\n\u001b[1;32m     18\u001b[0m \u001b[38;5;28;01mimport\u001b[39;00m \u001b[38;5;21;01mmatplotlib\u001b[39;00m\u001b[38;5;21;01m.\u001b[39;00m\u001b[38;5;21;01mpyplot\u001b[39;00m \u001b[38;5;28;01mas\u001b[39;00m \u001b[38;5;21;01mplt\u001b[39;00m\n",
      "Cell \u001b[0;32mIn[21], line 15\u001b[0m, in \u001b[0;36m<listcomp>\u001b[0;34m(.0)\u001b[0m\n\u001b[1;32m     12\u001b[0m edge_probabilities \u001b[38;5;241m=\u001b[39m [i \u001b[38;5;241m/\u001b[39m \u001b[38;5;241m10\u001b[39m \u001b[38;5;28;01mfor\u001b[39;00m i \u001b[38;5;129;01min\u001b[39;00m \u001b[38;5;28mrange\u001b[39m(\u001b[38;5;241m1\u001b[39m, \u001b[38;5;241m10\u001b[39m)]  \u001b[38;5;66;03m# Probability of edge creation\u001b[39;00m\n\u001b[1;32m     14\u001b[0m \u001b[38;5;66;03m# Running the experiment for different probabilities\u001b[39;00m\n\u001b[0;32m---> 15\u001b[0m cycle_probabilities \u001b[38;5;241m=\u001b[39m [\u001b[43mexperiment_cycle_probability\u001b[49m\u001b[43m(\u001b[49m\u001b[43mnum_graphs\u001b[49m\u001b[43m,\u001b[49m\u001b[43m \u001b[49m\u001b[43mn\u001b[49m\u001b[43m,\u001b[49m\u001b[43m \u001b[49m\u001b[43mp\u001b[49m\u001b[43m)\u001b[49m \u001b[38;5;28;01mfor\u001b[39;00m p \u001b[38;5;129;01min\u001b[39;00m edge_probabilities]\n\u001b[1;32m     17\u001b[0m \u001b[38;5;66;03m# Plotting\u001b[39;00m\n\u001b[1;32m     18\u001b[0m \u001b[38;5;28;01mimport\u001b[39;00m \u001b[38;5;21;01mmatplotlib\u001b[39;00m\u001b[38;5;21;01m.\u001b[39;00m\u001b[38;5;21;01mpyplot\u001b[39;00m \u001b[38;5;28;01mas\u001b[39;00m \u001b[38;5;21;01mplt\u001b[39;00m\n",
      "Cell \u001b[0;32mIn[21], line 4\u001b[0m, in \u001b[0;36mexperiment_cycle_probability\u001b[0;34m(num_graphs, n, p)\u001b[0m\n\u001b[1;32m      2\u001b[0m cycle_count \u001b[38;5;241m=\u001b[39m \u001b[38;5;241m0\u001b[39m\n\u001b[1;32m      3\u001b[0m \u001b[38;5;28;01mfor\u001b[39;00m _ \u001b[38;5;129;01min\u001b[39;00m \u001b[38;5;28mrange\u001b[39m(num_graphs):\n\u001b[0;32m----> 4\u001b[0m     G \u001b[38;5;241m=\u001b[39m \u001b[43mcreate_random_graph\u001b[49m\u001b[43m(\u001b[49m\u001b[43mn\u001b[49m\u001b[43m,\u001b[49m\u001b[43m \u001b[49m\u001b[43mp\u001b[49m\u001b[43m)\u001b[49m\n\u001b[1;32m      5\u001b[0m     \u001b[38;5;28;01mif\u001b[39;00m has_cycle(G):\n\u001b[1;32m      6\u001b[0m         cycle_count \u001b[38;5;241m+\u001b[39m\u001b[38;5;241m=\u001b[39m \u001b[38;5;241m1\u001b[39m\n",
      "Cell \u001b[0;32mIn[19], line 11\u001b[0m, in \u001b[0;36mcreate_random_graph\u001b[0;34m(n, e)\u001b[0m\n\u001b[1;32m      8\u001b[0m \u001b[38;5;66;03m# Randomly shuffle the nodes to create randomness\u001b[39;00m\n\u001b[1;32m      9\u001b[0m random\u001b[38;5;241m.\u001b[39mshuffle(nodes)\n\u001b[0;32m---> 11\u001b[0m \u001b[38;5;28;01mfor\u001b[39;00m i \u001b[38;5;129;01min\u001b[39;00m \u001b[38;5;28;43mrange\u001b[39;49m\u001b[43m(\u001b[49m\u001b[43me\u001b[49m\u001b[43m)\u001b[49m:\n\u001b[1;32m     12\u001b[0m     src \u001b[38;5;241m=\u001b[39m nodes[i \u001b[38;5;241m%\u001b[39m n]\n\u001b[1;32m     13\u001b[0m     dst \u001b[38;5;241m=\u001b[39m nodes[(i \u001b[38;5;241m+\u001b[39m \u001b[38;5;241m1\u001b[39m) \u001b[38;5;241m%\u001b[39m n]  \u001b[38;5;66;03m# Ensure that each node has at least one edge\u001b[39;00m\n",
      "\u001b[0;31mTypeError\u001b[0m: 'float' object cannot be interpreted as an integer"
     ]
    }
   ],
   "source": [
    "def experiment_cycle_probability(num_graphs, n, p):\n",
    "    cycle_count = 0\n",
    "    for _ in range(num_graphs):\n",
    "        G = (n, p)\n",
    "        if has_cycle(G):\n",
    "            cycle_count += 1\n",
    "    return cycle_count / num_graphs\n",
    "\n",
    "# Parameters\n",
    "num_graphs = 1000\n",
    "n = 10  # Number of nodes\n",
    "edge_probabilities = [i / 10 for i in range(1, 10)]  # Probability of edge creation\n",
    "\n",
    "# Running the experiment for different probabilities\n",
    "cycle_probabilities = [experiment_cycle_probability(num_graphs, n, p) for p in edge_probabilities]\n",
    "\n",
    "# Plotting\n",
    "import matplotlib.pyplot as plt\n",
    "\n",
    "plt.plot(edge_probabilities, cycle_probabilities, marker='o')\n",
    "plt.title('Probability of a cycle in a graph with ' + str(n) + ' nodes')\n",
    "plt.xlabel('Probability of edge creation')\n",
    "plt.ylabel('Probability of having a cycle')\n",
    "plt.grid(True)\n",
    "plt.show()"
   ]
  },
  {
   "cell_type": "markdown",
   "metadata": {},
   "source": [
    "### Part 1.7\n",
    "Similar to Part 1.6 design an experiment to compute the probability of a graph being connected\n",
    "when you generate a random graph with n nodes and e edges. Again, you can use a similar strategy and\n",
    "describe in your reflection, your experiment design, and number of experiments and justify your choices."
   ]
  },
  {
   "cell_type": "code",
   "execution_count": null,
   "metadata": {},
   "outputs": [],
   "source": []
  },
  {
   "cell_type": "markdown",
   "metadata": {},
   "source": [
    "### Part 2\n",
    "Computing minimum vertex cover is a basic combinatorial optimization problem where the goal is to\n",
    "determine a minimum subset of vertices that cover all edges. The jupyter notebook contains a function to\n",
    "compute the minimum vertex cover for an undirected graph. It works for graphs for small node sizes\n",
    "(<30). Implement 3 different approximation algorithms for the Vertex Cover Problem.\n"
   ]
  },
  {
   "cell_type": "markdown",
   "metadata": {},
   "source": [
    "### Part 2.1\n",
    "Approx1 (graph) takes in an object of Graph and does the following:\n",
    "1. Start with an empty set C = {}\n",
    "2. Find the vertex with the highest degree in G, call this vertex v.\n",
    "3. Add v to C\n",
    "4. Remove all edges incident to node v from G\n",
    "5. If C is a Vertex Cover return C, else go to Step 2"
   ]
  },
  {
   "cell_type": "code",
   "execution_count": null,
   "metadata": {},
   "outputs": [],
   "source": [
    "def Approx1(graph):\n",
    "    C = set() #Step 1\n",
    "\n",
    "    while True:\n",
    "        max_degree = -1\n",
    "        max_vertex = None\n",
    "        for vertex in graph.get_vertices(): #Step 2\n",
    "            degree = len(graph.get_neighbors(vertex))\n",
    "            if degree > max_degree:\n",
    "                max_degree = degree\n",
    "                max_vertex = vertex\n",
    "\n",
    "        if max_vertex is None:\n",
    "            break\n",
    "\n",
    "        #Step 3\n",
    "        C.add(max_vertex)\n",
    "        #Step 4\n",
    "        graph.remove_vertex(max_vertex)\n",
    "\n",
    "        if not graph.get_edges():\n",
    "            break\n",
    "    #Step 5\n",
    "    return C\n"
   ]
  },
  {
   "cell_type": "markdown",
   "metadata": {},
   "source": [
    "### Part 2.2\n",
    "Approx2(graph) takes as an input, an object of Graph and does the following:\n",
    "1. Start with an empty set C = {}\n",
    "2. Select a vertex randomly from G which is not already in C, call this vertex v\n",
    "3. Add v to C\n",
    "4. If C is a Vertex Cover return C, else go to Step 2\n"
   ]
  },
  {
   "cell_type": "code",
   "execution_count": null,
   "metadata": {},
   "outputs": [],
   "source": [
    "import random\n",
    "\n",
    "def Approx2(graph):\n",
    "    C = set()  #Step 1\n",
    "    all_vertices = set(graph.get_vertices())  \n",
    "\n",
    "    while True:\n",
    "\n",
    "        uncovered_edges = [edge for edge in graph.get_edges() if not (edge[0] in C or edge[1] in C)]\n",
    "\n",
    "        if not uncovered_edges:\n",
    "            break\n",
    "\n",
    "        potential_vertices = all_vertices - C\n",
    "        if not potential_vertices:\n",
    "            break\n",
    "        #St\n",
    "        v = random.choice(list(potential_vertices))\n",
    "\n",
    "        #Step 3\n",
    "        C.add(v)\n",
    "    #step\n",
    "    return C\n"
   ]
  },
  {
   "cell_type": "markdown",
   "metadata": {},
   "source": [
    "### Part 2.3\n",
    "Approx3(graph) takes as an input, an object of Graph and does the following:\n",
    "1. Start with an empty set C = {}\n",
    "2. Select an edge randomly from G, call this edge (u,v)\n",
    "3. Add u and v to C\n",
    "4. Remove all edges incident to u or v from G\n",
    "5. If C is a Vertex Cover return C, else go to Step 2\n",
    "\n",
    "Note: When you remove (or perform any other operation on) an edge, do not directly manipulate the\n",
    "graph, instead work on a local copy of the input graph."
   ]
  },
  {
   "cell_type": "code",
   "execution_count": null,
   "metadata": {},
   "outputs": [],
   "source": [
    "import random\n",
    "import copy\n",
    "\n",
    "def Approx3(graph):\n",
    "    C = set()  # Initialize the vertex cover set C as an empty set\n",
    "    local_graph = copy.deepcopy(graph)  # Work on a local copy of the graph\n",
    "\n",
    "    while True:\n",
    "        edges = local_graph.get_edges()\n",
    "        # If there are no edges left, we have found a vertex cover\n",
    "        if not edges:\n",
    "            break\n",
    "\n",
    "        # Step 2: Select an edge randomly from the graph\n",
    "        u, v = random.choice(edges)\n",
    "\n",
    "        # Step 3: Add both vertices of the chosen edge to C\n",
    "        C.add(u)\n",
    "        C.add(v)\n",
    "\n",
    "        # Step 4: Remove all edges incident to u or v from the local copy of G\n",
    "        for neighbor in list(local_graph.get_neighbors(u)):\n",
    "            local_graph.remove_edge(u, neighbor)\n",
    "            local_graph.remove_edge(neighbor, u)\n",
    "        \n",
    "        # Remove v and its edges\n",
    "        for neighbor in list(local_graph.get_neighbors(v)):\n",
    "            local_graph.remove_edge(v, neighbor)\n",
    "            local_graph.remove_edge(neighbor, v)\n",
    "\n",
    "    return C\n"
   ]
  },
  {
   "cell_type": "markdown",
   "metadata": {},
   "source": [
    "### Part 2.4\n",
    "Evaluate whether (or not) the above algorithms return the minimum vertex covers. In case they\n",
    "do not compute how far off the minimum is? For a given random graph with n nodes and e edges, what\n",
    "proportion of the minimum vertex cover is expected from approx1, approx2, approx3?\n",
    "One important thing that you would need is what is the “actual” minimum vertex cover against which you\n",
    "are comparing, what is the baseline. Be creative here.\n",
    "HINT: A potential experiment can be:\n",
    "1. Generate 100 random graphs with 6 nodes and e edges where e = {1,5,10,15,20}\n",
    "2. Find the minimum Vertex Cover (MVC) for each graph, and sum the size of all these MVCs (this can be a potential baseline).\n",
    "3.  Run each of your approximations on each of the same 100 graphs (do not modify the graphs within your experiment). Keep track of the sum of the sizes of each approximation’s Vertex Covers\n",
    "4. Then you can measure an approximation’s expected performance by looking at that approximation’s size sum over the sum of all MVCs\n",
    "5. Graph each of the approximation’s “expected performance” as it relates to the number of edges on the graph.\n",
    "#\n",
    "In total, you should have at least three meaningful graphs in this section. This does not mean 1 graph for\n",
    "each approximation! You should be able to plot each of the approximation’s curves on a single graph.\n",
    "Some questions to consider in your experiment:\n",
    "#\n",
    "1. Is there a relationship between how good we would expect an approximation to be and the number of edges in a graph? In general, does the approximation get better/worse as the number of edges increases/decreases?\n",
    "2. Is there a relationship between how good we would expect an approximation to be and the number of nodes in a graph? In general, does the approximation get better/worse as the number of nodes increases/decreases?\n",
    "3. The approach described in the Potential Experiment is getting at the average performance of the approximation. What about the worst case of the approximation? To figure that out we would have to test our approximations on every single graph for approx1(). And for the other two the non-deterministic nature of the algorithms makes this even more problematic. However, we may be able to test the worst case for approx1() on very small graphs. How would you generate all graphs of size 5 for example?\n",
    "Discuss these in your reflection section.\n"
   ]
  },
  {
   "cell_type": "code",
   "execution_count": null,
   "metadata": {},
   "outputs": [
    {
     "data": {
      "image/png": "[encoded data removed]",
      "text/plain": [
       "<Figure size 1400x800 with 1 Axes>"
      ]
     },
     "metadata": {},
     "output_type": "display_data"
    }
   ],
   "source": [
    "def generate_random_graph_III(n, e):\n",
    "    edges = list(combinations(range(n), 2))\n",
    "    selected_edges = random.sample(edges, min(e, len(edges)))\n",
    "    return GraphIII(selected_edges)\n",
    "\n",
    "# Experiment setup\n",
    "edge_sets = [1, 5, 10, 15]\n",
    "num_graphs = 100\n",
    "n = 6  # Number of nodes\n",
    "\n",
    "# Results storage\n",
    "results = {e: {'MVC': [], 'Approx1': [], 'Approx2': [], 'Approx3': []} for e in edge_sets}\n",
    "\n",
    "# Running the experiment\n",
    "for e in edge_sets:\n",
    "    for _ in range(num_graphs):\n",
    "        graph = generate_random_graph_III(n, e)\n",
    "        mvc_size = len(MVC(graph))  # Use your MVC finding function\n",
    "        results[e]['MVC'].append(mvc_size)\n",
    "        results[e]['Approx1'].append(len(Approx1(graph)))\n",
    "        results[e]['Approx2'].append(len(Approx2(graph)))\n",
    "        results[e]['Approx3'].append(len(Approx3(graph)))\n",
    "\n",
    "# Calculating performance\n",
    "performance_analysis = {e: {} for e in edge_sets}\n",
    "for e in edge_sets:\n",
    "    for method in ['Approx1', 'Approx2', 'Approx3']:\n",
    "        method_sizes = results[e][method]\n",
    "        performance_analysis[e][f'{method}_best'] = min(method_sizes)\n",
    "        performance_analysis[e][f'{method}_worst'] = max(method_sizes)\n",
    "        performance_analysis[e][f'{method}_average'] = sum(method_sizes) / len(method_sizes)\n",
    "    mvc_sizes = results[e]['MVC']\n",
    "    mvc_average = sum(mvc_sizes) / len(mvc_sizes)\n",
    "    performance_analysis[e]['MVC_average'] = mvc_average\n",
    "\n",
    "# Plotting\n",
    "plt.figure(figsize=(14, 8))\n",
    "\n",
    "# Plot average performance\n",
    "for method in ['Approx1', 'Approx2', 'Approx3']:\n",
    "    plt.plot(edge_sets, [performance_analysis[e][f'{method}_average'] / performance_analysis[e]['MVC_average'] for e in edge_sets], \n",
    "             label=f'{method} Average Proportion of MVC', marker='o')\n",
    "\n",
    "# Plot best case performance\n",
    "for method in ['Approx1', 'Approx2', 'Approx3']:\n",
    "    plt.plot(edge_sets, [performance_analysis[e][f'{method}_best'] / performance_analysis[e]['MVC_average'] for e in edge_sets], \n",
    "             label=f'{method} Best Proportion of MVC', linestyle='--', marker='x')\n",
    "\n",
    "# Plot worst case performance\n",
    "for method in ['Approx1', 'Approx2', 'Approx3']:\n",
    "    plt.plot(edge_sets, [performance_analysis[e][f'{method}_worst'] / performance_analysis[e]['MVC_average'] for e in edge_sets], \n",
    "             label=f'{method} Worst Proportion of MVC', linestyle=':', marker='s')\n",
    "\n",
    "# Adding plot titles and labels\n",
    "plt.title('Performance Analysis of Approximation Algorithms for MVC')\n",
    "plt.xlabel('Number of Edges')\n",
    "plt.ylabel('Proportion of MVC Size')\n",
    "\n",
    "# Adding legend\n",
    "plt.legend()\n",
    "\n",
    "# Show grid\n",
    "plt.grid(True)\n",
    "\n",
    "# Display the plot\n",
    "plt.show()\n",
    "\n"
   ]
  },
  {
   "cell_type": "markdown",
   "metadata": {},
   "source": [
    "### Part 2.5\n",
    "Another graph problem is the Independent Set problem. Given a graph G = (V, E) we say S is\n",
    "an Independent Set in G if and only if:\n",
    "#\n",
    "𝑆 ⊆ 𝑉 and ∀𝑢, 𝑣 ∈ 𝑆, (𝑢, 𝑣) ∉ 𝐸\n",
    "#\n",
    "Or S is an Independent Set if there are no edges in G connecting the nodes in S. In general, it is easy to\n",
    "find an Independent Set of G. For example, {} is trivially an Independent Set. It is much harder to find the\n",
    "largest Independent Set in a graph G.\n",
    "#\n",
    "Implement a function MIS(G), which returns a maximum Independent Set in G. Hint, brute force this\n",
    "similar to how we brute forced the MVC problem. But you can use some logic if you want are brave."
   ]
  },
  {
   "cell_type": "code",
   "execution_count": 24,
   "metadata": {},
   "outputs": [],
   "source": [
    "def is_independent_set(graph, subset):\n",
    "    for u in subset:\n",
    "        # Check neighbors of u to ensure none are in the subset\n",
    "        for v in graph.get_neighbors(u):\n",
    "            if u != v and v in subset:\n",
    "                return False\n",
    "    return True\n",
    "\n",
    "def MIS(graph):\n",
    "    \"\"\"Find the Maximum Independent Set (MIS) in the graph.\"\"\"\n",
    "    vertices = graph.get_vertices()\n",
    "    all_subsets = power_set(vertices)\n",
    "    max_set = []\n",
    "\n",
    "    for subset in all_subsets:\n",
    "        if is_independent_set(graph, subset) and len(subset) > len(max_set):\n",
    "            max_set = subset\n",
    "\n",
    "    return max_set\n"
   ]
  },
  {
   "cell_type": "markdown",
   "metadata": {},
   "source": [
    "### Part 2.6\n",
    "\n",
    "Experiment with some random graphs and MIS and MVC. Is there a relationship between the minimum Vertex Cover and the Maximum Independent Set?\n",
    "\n",
    "#\n",
    "Hint: yes. Determine what this relationship is. To get started, generate some random graphs with n nodes. When you sum the size of the MIS and the size of the MVC, what do you observe?"
   ]
  },
  {
   "cell_type": "code",
   "execution_count": 25,
   "metadata": {},
   "outputs": [
    {
     "name": "stdout",
     "output_type": "stream",
     "text": [
      "Average sum of MVC and MIS sizes: 9.97\n"
     ]
    },
    {
     "data": {
      "image/png": "[encoded data removed]",
      "text/plain": [
       "<Figure size 640x480 with 1 Axes>"
      ]
     },
     "metadata": {},
     "output_type": "display_data"
    }
   ],
   "source": [
    "import matplotlib.pyplot as plt\n",
    "\n",
    "# Function to generate random graph with n nodes and probability p for each edge\n",
    "def generate_random_graph(n, p):\n",
    "    edges = []\n",
    "    for i in range(n):\n",
    "        for j in range(i + 1, n):\n",
    "            if random.random() < p:\n",
    "                edges.append((i, j))\n",
    "    return edges\n",
    "\n",
    "\n",
    "# Function to perform the experiment\n",
    "def experiment(num_graphs, n, p):\n",
    "    total_sum = 0\n",
    "    for _ in range(num_graphs):\n",
    "        edges = generate_random_graph(n, p)\n",
    "        graph = GraphIII(edges)\n",
    "        mvc_size = len(MVC(graph))  # Get the size of the MVC\n",
    "        mis_size = len(MIS(graph))  # Get the size of the MIS\n",
    "        total_sum += mvc_size + mis_size\n",
    "    avg_sum = total_sum / num_graphs\n",
    "    return avg_sum\n",
    "def run_experiment_for_probabilities(num_graphs, n, probabilities):\n",
    "    avg_sums = []\n",
    "    for p in probabilities:\n",
    "        avg_sum = experiment(num_graphs, n, p)\n",
    "        avg_sums.append(avg_sum)\n",
    "    return avg_sums\n",
    "\n",
    "# Run the experiment\n",
    "num_graphs = 100\n",
    "n = 10  # Number of nodes in the graph\n",
    "p = 0.5  # Probability of edge creation\n",
    "avg_sum = experiment(num_graphs, n, p)\n",
    "print(\"Average sum of MVC and MIS sizes:\", avg_sum)\n",
    "\n",
    "probabilities = [0.1 * i for i in range(1, 11)]\n",
    "avg_sums = run_experiment_for_probabilities(num_graphs, n, probabilities)\n",
    "\n",
    "# Plotting\n",
    "plt.plot(probabilities, avg_sums, marker='o')\n",
    "plt.title('Relationship Between Probability and Average Sum of MVC and MIS Sizes')\n",
    "plt.xlabel('Probability of Edge Creation (p)')\n",
    "plt.ylabel('Average Sum of MVC and MIS Sizes')\n",
    "plt.grid(True)\n",
    "plt.show()\n",
    "\n"
   ]
  },
  {
   "cell_type": "markdown",
   "metadata": {},
   "source": [
    "### Part 2.7 \n",
    "Inspect the MIS and MVC directly as well. What can you empirically conclude? Provide your\n",
    "observations in the reflection section.\n"
   ]
  },
  {
   "cell_type": "markdown",
   "metadata": {},
   "source": [
    "### Empirical Conclusions on MIS and MVC\n",
    "\n",
    "- **Complementarity**:\n",
    "  - MIS and MVC are complementary within a graph's structure. Vertices not in the MIS form a vertex cover, underscoring a fundamental relationship between these sets.\n",
    "\n",
    "- **Vertex Count Consistency**:\n",
    "  - The sum of the sizes of the MIS and MVC equals the total number of vertices in the graph, reflecting a key theoretical principle in practical scenarios.\n",
    "\n",
    "- **Influence of Graph Density**:\n",
    "  - The density of the graph affects the sizes of MIS and MVC. Sparse graphs tend to have larger MIS, while denser graphs require a larger MVC, indicating how graph topology impacts these sets.\n",
    "\n",
    "- **Computational Complexity**:\n",
    "  - Finding exact MIS and MVC is computationally challenging (NP-hard), highlighting the reliance on approximation algorithms and heuristics in empirical studies.\n",
    "\n",
    "- **Practical Implications**:\n",
    "  - The concepts of MIS and MVC have direct applications in network design, scheduling, and resource allocation, demonstrating the practical value of these theoretical constructs.\n",
    "\n",
    "### Reflection\n",
    "\n",
    "- Through empirical examination, the intricate balance and fundamental principles of MIS and MVC in graph theory are highlighted, bridging theoretical concepts with real-world applications.\n",
    "- The study emphasizes the computational challenges in finding exact MIS and MVC, reflecting on the balance between algorithmic efficiency and solution accuracy.\n",
    "- Insights from empirical analysis of MIS and MVC underscore the relevance of graph theory in addressing complex problems across various domains, offering a foundation for innovative solutions.\n"
   ]
  }
 ],
 "metadata": {
  "kernelspec": {
   "display_name": "base",
   "language": "python",
   "name": "python3"
  },
  "language_info": {
   "codemirror_mode": {
    "name": "ipython",
    "version": 3
   },
   "file_extension": ".py",
   "mimetype": "text/x-python",
   "name": "python",
   "nbconvert_exporter": "python",
   "pygments_lexer": "ipython3",
   "version": "3.10.12"
  }
 },
 "nbformat": 4,
 "nbformat_minor": 2
}
