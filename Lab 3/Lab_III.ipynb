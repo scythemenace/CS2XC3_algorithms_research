{
 "cells": [
  {
   "cell_type": "markdown",
   "metadata": {},
   "source": [
    "# Computer Science 2XC3 - Graded Lab II"
   ]
  },
  {
   "cell_type": "markdown",
   "metadata": {},
   "source": [
    "Please refer to the pdf for detailed instructions. The below file contains all the preliminary code you will need to work on the lab. You can copy paste instructions here to create one cohesive lab and organize it that best suits your teams workflow. "
   ]
  },
  {
   "cell_type": "code",
   "execution_count": 23,
   "metadata": {},
   "outputs": [],
   "source": [
    "import random\n",
    "import timeit \n",
    "import matplotlib.pyplot as plt\n",
    "import numpy as np\n",
    "import math\n",
    "from collections import deque"
   ]
  },
  {
   "cell_type": "code",
   "execution_count": 24,
   "metadata": {},
   "outputs": [],
   "source": [
    "class GraphI:\n",
    "\n",
    "    # using hash map\n",
    "    def __init__(self, edges):\n",
    "        self.graph = {}\n",
    "        for x,y in edges:\n",
    "            if x not in self.graph.keys():\n",
    "                self.graph[x]=[]\n",
    "            self.graph[x].append(y)\n",
    "\n",
    "    def has_edge(self, src, dst):\n",
    "        return src in self.graph[dst]\n",
    "\n",
    "    def get_graph_size(self,):\n",
    "        return len(self.graph)\n",
    "    \n",
    "    def get_graph(self,):\n",
    "        return self.graph"
   ]
  },
  {
   "cell_type": "code",
   "execution_count": 25,
   "metadata": {},
   "outputs": [],
   "source": [
    "class GraphII:\n",
    "\n",
    "    # using adjacency list\n",
    "    def __init__(self, nodes):\n",
    "        self.graph = []\n",
    "        # node numbered 0-1\n",
    "        for node in range(nodes):\n",
    "            self.graph.append([])\n",
    "        \n",
    "    def has_edge(self, src, dst):\n",
    "        return src in self.graph[dst]\n",
    "    \n",
    "    def add_edge(self,src,dst):\n",
    "        if not self.has_edge(src,dst):\n",
    "            self.graph[src].append(dst)\n",
    "            self.graph[dst].append(src)\n",
    "    \n",
    "    def get_graph(self,):\n",
    "        return self.graph"
   ]
  },
  {
   "cell_type": "code",
   "execution_count": 148,
   "metadata": {},
   "outputs": [],
   "source": [
    "class GraphIII:\n",
    "\n",
    "    def __init__(self, edges):\n",
    "        self.graph = {}\n",
    "        for x, y in edges:\n",
    "            self.add_edge(x, y)\n",
    "\n",
    "    def add_edge(self, src, dst):\n",
    "        if src not in self.graph:\n",
    "            self.graph[src] = []\n",
    "        if dst not in self.graph:\n",
    "            self.graph[dst] = []\n",
    "        if dst not in self.graph[src]:\n",
    "            self.graph[src].append(dst)\n",
    "        if src not in self.graph[dst]:\n",
    "            self.graph[dst].append(src)\n",
    "\n",
    "    def remove_edge(self, src, dst):\n",
    "        if src in self.graph and dst in self.graph[src]:\n",
    "            self.graph[src].remove(dst)\n",
    "        if dst in self.graph and src in self.graph[dst]:\n",
    "            self.graph[dst].remove(src)\n",
    "\n",
    "    def get_vertices(self):\n",
    "        return list(self.graph.keys())\n",
    "\n",
    "    def get_neighbors(self, vertex):\n",
    "        return self.graph.get(vertex, [])\n",
    "\n",
    "    def get_edges(self):\n",
    "        edges = []\n",
    "        for vertex, neighbors in self.graph.items():\n",
    "            for neighbor in neighbors:\n",
    "                if (vertex, neighbor) not in edges and (neighbor, vertex) not in edges:\n",
    "                    edges.append((vertex, neighbor))\n",
    "        return edges\n",
    "\n",
    "    # Check if an edge exists between two vertices\n",
    "    def has_edge(self, src, dst):\n",
    "        return dst in self.graph.get(src, [])\n",
    "    def remove_vertex(self, vertex):\n",
    "        # Remove the vertex from the graph\n",
    "        if vertex in self.graph:\n",
    "            # Remove all edges incident to this vertex\n",
    "            for neighbor in self.graph[vertex]:\n",
    "                self.graph[neighbor].remove(vertex)\n",
    "            del self.graph[vertex]  # Remove the vertex itself\n",
    "\n",
    "    def get_graph(self,):\n",
    "        return self.graph"
   ]
  },
  {
   "cell_type": "code",
   "execution_count": 27,
   "metadata": {},
   "outputs": [],
   "source": [
    "def depth_first_search(G,node,end_point=None):\n",
    "    stack = [node]\n",
    "    graph = G.get_graph()\n",
    "    seen=set()\n",
    "\n",
    "    while len(stack) !=0:\n",
    "        node = stack.pop()\n",
    "        # search for neighbours in graph\n",
    "        if node not in seen:\n",
    "            seen.add(node)\n",
    "            print(\"Visited node:\" + str(node))\n",
    "            # if the given node has an edge\n",
    "            if node in graph.keys():\n",
    "                # iterate over edges of node\n",
    "                for nn in graph[node]:\n",
    "\n",
    "                    # limited traversal\n",
    "                    if nn == end_point:\n",
    "                        return True\n",
    "                    # add to stack\n",
    "                    stack.append(nn)"
   ]
  },
  {
   "cell_type": "code",
   "execution_count": 28,
   "metadata": {},
   "outputs": [],
   "source": [
    "#Breadth First Search\n",
    "def breadth_first_search(G, node):\n",
    "    stack = [node]\n",
    "    graph = G.get_graph()\n",
    "    seen=set()\n",
    "\n",
    "    seen.add(node)\n",
    "\n",
    "    while len(stack) > 0:\n",
    "        node = stack[0]\n",
    "        stack = stack[1:]\n",
    "        print(\"Visiting node: \" + str(node))\n",
    "        if node in graph.keys():\n",
    "            for nn in graph[node]:\n",
    "                #if node == node2:\n",
    "                #    return True\n",
    "                if nn not in seen:\n",
    "                    stack.append(nn)\n",
    "                    seen.add(nn)"
   ]
  },
  {
   "cell_type": "code",
   "execution_count": 29,
   "metadata": {},
   "outputs": [],
   "source": [
    "#Use the methods below to determine minimum vertex covers\n",
    "\n",
    "def add_to_each(sets, element):\n",
    "    copy = sets.copy()\n",
    "    for set in copy:\n",
    "        set.append(element)\n",
    "    return copy\n",
    "\n",
    "def power_set(set):\n",
    "    if set == []:\n",
    "        return [[]]\n",
    "    return power_set(set[1:]) + add_to_each(power_set(set[1:]), set[0])\n",
    "\n",
    "def is_vertex_cover(G, C):\n",
    "    for start in G.adj:\n",
    "        for end in G.adj[start]:\n",
    "            if not(start in C or end in C):\n",
    "                return False\n",
    "    return True\n",
    "\n",
    "def MVC(G):\n",
    "    nodes = [i for i in range(G.get_size())]\n",
    "    subsets = power_set(nodes)\n",
    "    min_cover = nodes\n",
    "    for subset in subsets:\n",
    "        if is_vertex_cover(G, subset):\n",
    "            if len(subset) < len(min_cover):\n",
    "                min_cover = subset\n",
    "    return min_cover\n"
   ]
  },
  {
   "cell_type": "code",
   "execution_count": 30,
   "metadata": {},
   "outputs": [],
   "source": [
    "#New implementation according to GraphIII, for Part 2\n",
    "\n",
    "def add_to_each(sets, element):\n",
    "    copy = sets.copy()\n",
    "    for set in copy:\n",
    "        set.append(element)\n",
    "    return copy\n",
    "\n",
    "\n",
    "def power_set(input_set):\n",
    "    if not input_set:\n",
    "        return [[]]\n",
    "    rest_power_set = power_set(input_set[1:])\n",
    "    return rest_power_set + add_to_each(rest_power_set, input_set[0])\n",
    "\n",
    "def is_vertex_cover(graph, cover):\n",
    "    for start in graph.get_vertices():\n",
    "        for end in graph.get_neighbors(start):\n",
    "            if not(start in cover or end in cover):\n",
    "                return False\n",
    "    return True\n",
    "\n",
    "def MVC(graph):\n",
    "    nodes = graph.get_vertices()\n",
    "    subsets = power_set(nodes)\n",
    "    min_cover = nodes\n",
    "    for subset in subsets:\n",
    "        if is_vertex_cover(graph, subset):\n",
    "            if len(subset) < len(min_cover):\n",
    "                min_cover = subset\n",
    "    return min_cover"
   ]
  },
  {
   "cell_type": "markdown",
   "metadata": {},
   "source": [
    "### Part 1\n",
    "\n",
    "In class, we discussed a simple implementation of the undirected and non-weighted version of the graph.\n",
    "We also talked about the directed graph implementation where both the path between “src” and “dst”\n",
    "nodes is stored. We will also discuss how to search if a node exists in a graph using Breadth First Search\n",
    "(BFS) and Depth First Search (DFS). Using these techniques, the functions we discussed return True if\n",
    "the path exists between 2 nodes, otherwise it returns false.\n",
    "\n",
    "#\n",
    "This implementation is limiting since not much can be accomplished with True and False. In this lab,\n",
    "implement two variations of BFS and DFS"
   ]
  },
  {
   "cell_type": "markdown",
   "metadata": {},
   "source": [
    "### Part 1.1\n",
    "\n",
    "\n",
    "Implement BFS2 and DFS2 where the path between two nodes node1 and node2 is returned as a\n",
    "list. For instance, in a graph, if to reach node 8 from node 6, one needs to traverse the path starting at 6 to\n",
    "23, to 12, then to 5, then to 10, and finally to 8, your function BFS2(graph, 6,8) (or DFS2(graph, 6,8))\n",
    "should return a list [6,23,12,5,10,8]. Implement both BFS2 and DFS2 for this variation.\n"
   ]
  },
  {
   "cell_type": "code",
   "execution_count": 48,
   "metadata": {},
   "outputs": [],
   "source": [
    "def BFS2(G, start, end):\n",
    "    visited = set()\n",
    "    queue = deque([(start, [start])])\n",
    "    \n",
    "    while queue:\n",
    "        vertex, path = queue.popleft()\n",
    "        visited.add(vertex)\n",
    "        \n",
    "        if vertex == end:\n",
    "            return path\n",
    "        \n",
    "        for neighbor in G.get_neighbors(vertex):\n",
    "            if neighbor not in visited:\n",
    "                queue.append((neighbor, path + [neighbor]))\n",
    "    \n",
    "    return None  # No path found\n",
    "\n",
    "def DFS2(G, start, end):\n",
    "    visited = set()\n",
    "    stack = [(start, [start])]\n",
    "    \n",
    "    while stack:\n",
    "        vertex, path = stack.pop()\n",
    "        visited.add(vertex)\n",
    "        \n",
    "        if vertex == end:\n",
    "            return path\n",
    "        \n",
    "        for neighbor in G.get_neighbors(vertex):\n",
    "            if neighbor not in visited:\n",
    "                stack.append((neighbor, path + [neighbor]))\n",
    "    \n",
    "    return None  # No path found\n"
   ]
  },
  {
   "cell_type": "code",
   "execution_count": 56,
   "metadata": {},
   "outputs": [
    {
     "name": "stdout",
     "output_type": "stream",
     "text": [
      "BFS Path: [6, 12]\n",
      "DFS Path: [6, 12, 10]\n"
     ]
    }
   ],
   "source": [
    "# Create the graph\n",
    "edges = [(6, 23), (6, 12), (12, 5), (12, 10), (23, 8)]\n",
    "graph = GraphIII(edges)\n",
    "\n",
    "# Find the path from node 6 to node 8 using BFS\n",
    "path_bfs = BFS2(graph, 6, 12)\n",
    "print(\"BFS Path:\", path_bfs)\n",
    "\n",
    "# Find the path from node 6 to node 8 using DFS\n",
    "path_dfs = DFS2(graph, 6, 10)\n",
    "print(\"DFS Path:\", path_dfs)\n",
    "\n"
   ]
  },
  {
   "cell_type": "markdown",
   "metadata": {},
   "source": [
    "### Part 1.2\n",
    "In some applications, we need to find connections from a given node to all nodes. Think about\n",
    "how one might find recommendations for possible connections on social media platforms. In this\n",
    "variation implement BFS3 and DFS3 which take as an input 1 node and return paths to every other node\n",
    "(note that this is different from all paths between all nodes. Your goal is to find a path to a node). These\n",
    "paths should be returned as a “predecessor dictionary”. Predecessor dictionary contains the key as the\n",
    "node and the value as the predecessor node. For example, for the following graph, your implementation of\n",
    "BFS3(graph, 1) will return the predecessor dictionary as: {2 : 1, 3 : 1, 4 : 2, 5 : 3, 6 : 4}\n",
    "Now it is possible to reconstruct the path from this dictionary by simply connecting the predecessors of\n",
    "each node backward. So the path from 1 to 6 is 1 -> 2 -> 4 -> 6. If there is no path between 2 nodes there\n",
    "will be no entry in the dictionary corresponding to that.\n",
    "\n"
   ]
  },
  {
   "cell_type": "code",
   "execution_count": 59,
   "metadata": {},
   "outputs": [],
   "source": [
    "def BFS3(G, start):\n",
    "        predecessor = {}\n",
    "        visited = set()\n",
    "        queue = deque([start])\n",
    "        \n",
    "        while queue:\n",
    "            vertex = queue.popleft()\n",
    "            visited.add(vertex)\n",
    "            \n",
    "            for neighbor in G.get_neighbors(vertex):\n",
    "                if neighbor not in visited:\n",
    "                    queue.append(neighbor)\n",
    "                    predecessor[neighbor] = vertex\n",
    "        \n",
    "        return predecessor\n",
    "\n",
    "def DFS3(G, start):\n",
    "    predecessor = {}\n",
    "    visited = set()\n",
    "    stack = [start]\n",
    "    \n",
    "    while stack:\n",
    "        vertex = stack.pop()\n",
    "        visited.add(vertex)\n",
    "        \n",
    "        for neighbor in G.get_neighbors(vertex):\n",
    "            if neighbor not in visited:\n",
    "                stack.append(neighbor)\n",
    "                predecessor[neighbor] = vertex\n",
    "    \n",
    "    return predecessor"
   ]
  },
  {
   "cell_type": "code",
   "execution_count": 135,
   "metadata": {},
   "outputs": [
    {
     "name": "stdout",
     "output_type": "stream",
     "text": [
      "BFS Path: {23: 6, 12: 6, 8: 23, 5: 12, 10: 12}\n",
      "DFS Path: {6: 23, 8: 23, 12: 6, 5: 12, 10: 12}\n"
     ]
    }
   ],
   "source": [
    "# Create the graph\n",
    "edges = [(6, 23), (6, 12), (12, 5), (12, 10), (23, 8)]\n",
    "graph = GraphIII(edges)\n",
    "\n",
    "# Find the path from node 6 to node 8 using BFS\n",
    "path_bfs = BFS3(graph, 6)\n",
    "print(\"BFS Path:\", path_bfs)\n",
    "\n",
    "# Find the path from node 6 to node 8 using DFS\n",
    "path_dfs = DFS3(graph, 23)\n",
    "print(\"DFS Path:\", path_dfs)"
   ]
  },
  {
   "cell_type": "markdown",
   "metadata": {},
   "source": [
    "### Part 1.3\n",
    " Implement a function in the graph class called has_cycle( ) that computes and returns True if\n",
    "the graph has a cycle.\n"
   ]
  },
  {
   "cell_type": "code",
   "execution_count": 198,
   "metadata": {},
   "outputs": [],
   "source": [
    "def dfs_cycle(G, v, visited, parent):\n",
    "\n",
    "    visited[v] = True\n",
    "    \n",
    "    for w in G.get_neighbors(v):\n",
    "        if visited[w] == False:\n",
    "            if(dfs_cycle(G, w, visited, v)):\n",
    "                return True\n",
    "            \n",
    "        elif parent != w:\n",
    "            return True\n",
    "\n",
    "    return False\n",
    "\n",
    "\n",
    "def has_cycle(G):\n",
    "\n",
    "    visited = [False]*(max(G.get_vertices()) + 1)\n",
    "\n",
    "    for i in G.get_vertices():\n",
    "        if visited[i] == False:\n",
    "            if(dfs_cycle(G, i, visited, -1)) == True:\n",
    "                return True\n",
    "\n",
    "    return False"
   ]
  },
  {
   "cell_type": "code",
   "execution_count": 199,
   "metadata": {},
   "outputs": [
    {
     "name": "stdout",
     "output_type": "stream",
     "text": [
      "{6: [23, 12], 23: [6, 8], 12: [6, 5, 10], 5: [12], 10: [12], 8: [23]}\n",
      "has cycle? False\n"
     ]
    }
   ],
   "source": [
    "edges = [(6, 23), (6, 12), (12, 5), (12, 10), (23, 8)]\n",
    "graph = GraphIII(edges)\n",
    "print(graph.get_graph())\n",
    "\n",
    "print(\"has cycle?\", has_cycle(graph))"
   ]
  },
  {
   "cell_type": "markdown",
   "metadata": {},
   "source": [
    "### Part 1.4\n",
    "Implement a function in graph class called is_connected( ) that computes and returns True if\n",
    "there is a path between two nodes. Note that this is different from what we discussed in class ( has_edge()\n",
    "). While has_edge finds whether an edge exists between two nodes, is_connected finds whether there is a\n",
    "path between two nodes.\n"
   ]
  },
  {
   "cell_type": "code",
   "execution_count": 214,
   "metadata": {},
   "outputs": [],
   "source": [
    "def is_connected(G):\n",
    "\n",
    "    def dfs(v):\n",
    "        nonlocal count\n",
    "\n",
    "        marked[v] = True\n",
    "        id[v] = count\n",
    "\n",
    "        for w in G.get_neighbors(v):\n",
    "            if not marked[w]:\n",
    "                dfs(w)\n",
    "\n",
    "    marked = [False] * (max(G.get_vertices()) + 1)\n",
    "    id = [-1] * (max(G.get_vertices()) + 1)\n",
    "    count = 0\n",
    "\n",
    "    for s in G.get_vertices():\n",
    "        if not marked[s]:\n",
    "            dfs(s)\n",
    "            count += 1\n",
    "\n",
    "    return count == 1"
   ]
  },
  {
   "cell_type": "code",
   "execution_count": 216,
   "metadata": {},
   "outputs": [
    {
     "name": "stdout",
     "output_type": "stream",
     "text": [
      "{6: [23, 12], 23: [6, 8], 12: [6, 5, 10], 5: [12], 10: [12], 8: [23]}\n",
      "is connected? True\n"
     ]
    }
   ],
   "source": [
    "edges = [(6, 23), (6, 12), (12, 5), (12, 10), (23, 8)]\n",
    "graph = GraphIII(edges)\n",
    "print(graph.get_graph())\n",
    "\n",
    "print(\"is connected?\", is_connected(graph))"
   ]
  },
  {
   "cell_type": "markdown",
   "metadata": {},
   "source": [
    "### Part 1.5\n",
    "In the previous lab we conducted a few experiments using a random list generator that I\n",
    "provided. What would that look like for a graph? To experiment with graphs, you want to be able to\n",
    "generate random graphs. Write a function to do so. The way to approach this is to think about the\n",
    "essential elements of the graph nodes (n) and edges (e). So when you call the function\n",
    "create_random_graph(n,e), it should create a random layout with only a single edge between two nodes"
   ]
  },
  {
   "cell_type": "code",
   "execution_count": 233,
   "metadata": {},
   "outputs": [],
   "source": [
    "def create_random_graph(n, e):\n",
    "    if e > n * (n - 1) // 2:\n",
    "        raise ValueError(\"Too many edges for the number of nodes\")\n",
    "\n",
    "    nodes = list(range(n))\n",
    "    edges = []\n",
    "    \n",
    "    # Randomly shuffle the nodes to create randomness\n",
    "    random.shuffle(nodes)\n",
    "\n",
    "    for i in range(e):\n",
    "        src = nodes[i % n]\n",
    "        dst = nodes[(i + 1) % n]  # Ensure that each node has at least one edge\n",
    "        temp_tuple = (src, dst)\n",
    "        edges.append(temp_tuple)\n",
    "\n",
    "    graph = GraphIII(edges)\n",
    "    return graph"
   ]
  },
  {
   "cell_type": "code",
   "execution_count": 238,
   "metadata": {},
   "outputs": [
    {
     "name": "stdout",
     "output_type": "stream",
     "text": [
      "Random graph: <__main__.GraphIII object at 0x1373aa320>\n",
      "is connected? True\n",
      "has_cycle? False\n"
     ]
    }
   ],
   "source": [
    "n = 10  # Number of nodes\n",
    "e = 9 # Number of edges\n",
    "random_graph = create_random_graph(n, e)\n",
    "print(\"Random graph:\", random_graph.get_graph())\n",
    "\n",
    "print(\"is connected?\", is_connected(random_graph))\n",
    "print(\"has_cycle?\", has_cycle(random_graph))"
   ]
  },
  {
   "cell_type": "markdown",
   "metadata": {},
   "source": [
    "### Part 1.6\n",
    " By now, you should have a good understanding of how to design an experiment to answer a\n",
    "question. In this part, design an experiment to compute the probability of a graph having a cycle, when\n",
    "you generate a random graph with n nodes and e edges. This is an open-ended question so think about\n",
    "how you would design the experiment.\n",
    "HINT: Create a sufficiently large number of graphs using a fixed number of nodes (or edges??). compute\n",
    "for each graph, whether or not it has a cycle (you have already written this function in the previous\n",
    "section). Then calculate what proportion of the random graphs had cycles.\n",
    "As usual, there are multiple ways you can approach this problem, so be creative. In your reflection,\n",
    "describe your experiment design, the number of iterations you ran, why you chose a specific experiment\n",
    "design etc. You can run this experiment multiple times and your graph should show the probability\n",
    "computed in each iteration."
   ]
  },
  {
   "cell_type": "code",
   "execution_count": null,
   "metadata": {},
   "outputs": [],
   "source": []
  },
  {
   "cell_type": "markdown",
   "metadata": {},
   "source": [
    "### Part 1.7\n",
    "Similar to Part 1.6 design an experiment to compute the probability of a graph being connected\n",
    "when you generate a random graph with n nodes and e edges. Again, you can use a similar strategy and\n",
    "describe in your reflection, your experiment design, and number of experiments and justify your choices."
   ]
  },
  {
   "cell_type": "code",
   "execution_count": null,
   "metadata": {},
   "outputs": [],
   "source": []
  },
  {
   "cell_type": "markdown",
   "metadata": {},
   "source": [
    "### Part 2\n",
    "Computing minimum vertex cover is a basic combinatorial optimization problem where the goal is to\n",
    "determine a minimum subset of vertices that cover all edges. The jupyter notebook contains a function to\n",
    "compute the minimum vertex cover for an undirected graph. It works for graphs for small node sizes\n",
    "(<30). Implement 3 different approximation algorithms for the Vertex Cover Problem.\n"
   ]
  },
  {
   "cell_type": "markdown",
   "metadata": {},
   "source": [
    "### Part 2.1\n",
    "Approx1 (graph) takes in an object of Graph and does the following:\n",
    "1. Start with an empty set C = {}\n",
    "2. Find the vertex with the highest degree in G, call this vertex v.\n",
    "3. Add v to C\n",
    "4. Remove all edges incident to node v from G\n",
    "5. If C is a Vertex Cover return C, else go to Step 2"
   ]
  },
  {
   "cell_type": "code",
   "execution_count": 16,
   "metadata": {},
   "outputs": [],
   "source": [
    "def Approx1(graph):\n",
    "    C = set() #Step 1\n",
    "\n",
    "    while True:\n",
    "        max_degree = -1\n",
    "        max_vertex = None\n",
    "        for vertex in graph.get_vertices(): #Step 2\n",
    "            degree = len(graph.get_neighbors(vertex))\n",
    "            if degree > max_degree:\n",
    "                max_degree = degree\n",
    "                max_vertex = vertex\n",
    "\n",
    "        if max_vertex is None:\n",
    "            break\n",
    "\n",
    "        #Step 3\n",
    "        C.add(max_vertex)\n",
    "        #Step 4\n",
    "        graph.remove_vertex(max_vertex)\n",
    "\n",
    "        if not graph.get_edges():\n",
    "            break\n",
    "    #Step 5\n",
    "    return C\n"
   ]
  },
  {
   "cell_type": "markdown",
   "metadata": {},
   "source": [
    "### Part 2.2\n",
    "Approx2(graph) takes as an input, an object of Graph and does the following:\n",
    "1. Start with an empty set C = {}\n",
    "2. Select a vertex randomly from G which is not already in C, call this vertex v\n",
    "3. Add v to C\n",
    "4. If C is a Vertex Cover return C, else go to Step 2\n"
   ]
  },
  {
   "cell_type": "code",
   "execution_count": 17,
   "metadata": {},
   "outputs": [],
   "source": [
    "import random\n",
    "\n",
    "def Approx2(graph):\n",
    "    C = set()  #Step 1\n",
    "    all_vertices = set(graph.get_vertices())  \n",
    "\n",
    "    while True:\n",
    "\n",
    "        uncovered_edges = [edge for edge in graph.get_edges() if not (edge[0] in C or edge[1] in C)]\n",
    "\n",
    "        if not uncovered_edges:\n",
    "            break\n",
    "\n",
    "        potential_vertices = all_vertices - C\n",
    "        if not potential_vertices:\n",
    "            break\n",
    "        #St\n",
    "        v = random.choice(list(potential_vertices))\n",
    "\n",
    "        #Step 3\n",
    "        C.add(v)\n",
    "    #step\n",
    "    return C\n"
   ]
  },
  {
   "cell_type": "markdown",
   "metadata": {},
   "source": [
    "### Part 2.3\n",
    "Approx3(graph) takes as an input, an object of Graph and does the following:\n",
    "1. Start with an empty set C = {}\n",
    "2. Select an edge randomly from G, call this edge (u,v)\n",
    "3. Add u and v to C\n",
    "4. Remove all edges incident to u or v from G\n",
    "5. If C is a Vertex Cover return C, else go to Step 2\n",
    "\n",
    "Note: When you remove (or perform any other operation on) an edge, do not directly manipulate the\n",
    "graph, instead work on a local copy of the input graph."
   ]
  },
  {
   "cell_type": "code",
   "execution_count": 18,
   "metadata": {},
   "outputs": [],
   "source": [
    "\n",
    "import copy\n",
    "\n",
    "def Approx3(graph):\n",
    "    C = set()  # Initialize the vertex cover set C as an empty set\n",
    "    local_graph = copy.deepcopy(graph)  # Work on a local copy of the graph\n",
    "\n",
    "    while True:\n",
    "        edges = local_graph.get_edges()\n",
    "        # If there are no edges left, we have found a vertex cover\n",
    "        if not edges:\n",
    "            break\n",
    "\n",
    "        # Step 2: Select an edge randomly from the graph\n",
    "        u, v = random.choice(edges)\n",
    "\n",
    "        # Step 3: Add both vertices of the chosen edge to C\n",
    "        C.add(u)\n",
    "        C.add(v)\n",
    "\n",
    "        # Step 4: Remove all edges incident to u or v from the local copy of G\n",
    "        for neighbor in list(local_graph.get_neighbors(u)):\n",
    "            local_graph.remove_edge(u, neighbor)\n",
    "            local_graph.remove_edge(neighbor, u)\n",
    "        \n",
    "        # Remove v and its edges\n",
    "        for neighbor in list(local_graph.get_neighbors(v)):\n",
    "            local_graph.remove_edge(v, neighbor)\n",
    "            local_graph.remove_edge(neighbor, v)\n",
    "\n",
    "    return C\n"
   ]
  },
  {
   "cell_type": "markdown",
   "metadata": {},
   "source": [
    "### Part 2.4\n",
    "Evaluate whether (or not) the above algorithms return the minimum vertex covers. In case they\n",
    "do not compute how far off the minimum is? For a given random graph with n nodes and e edges, what\n",
    "proportion of the minimum vertex cover is expected from approx1, approx2, approx3?\n",
    "One important thing that you would need is what is the “actual” minimum vertex cover against which you\n",
    "are comparing, what is the baseline. Be creative here.\n",
    "HINT: A potential experiment can be:\n",
    "1. Generate 100 random graphs with 6 nodes and e edges where e = {1,5,10,15,20}\n",
    "2. Find the minimum Vertex Cover (MVC) for each graph, and sum the size of all these MVCs (this can be a potential baseline).\n",
    "3.  Run each of your approximations on each of the same 100 graphs (do not modify the graphs within your experiment). Keep track of the sum of the sizes of each approximation’s Vertex Covers\n",
    "4. Then you can measure an approximation’s expected performance by looking at that approximation’s size sum over the sum of all MVCs\n",
    "5. Graph each of the approximation’s “expected performance” as it relates to the number of edges on the graph.\n",
    "#\n",
    "In total, you should have at least three meaningful graphs in this section. This does not mean 1 graph for\n",
    "each approximation! You should be able to plot each of the approximation’s curves on a single graph.\n",
    "Some questions to consider in your experiment:\n",
    "#\n",
    "1. Is there a relationship between how good we would expect an approximation to be and the number of edges in a graph? In general, does the approximation get better/worse as the number of edges increases/decreases?\n",
    "2. Is there a relationship between how good we would expect an approximation to be and the number of nodes in a graph? In general, does the approximation get better/worse as the number of nodes increases/decreases?\n",
    "3. The approach described in the Potential Experiment is getting at the average performance of the approximation. What about the worst case of the approximation? To figure that out we would have to test our approximations on every single graph for approx1(). And for the other two the non-deterministic nature of the algorithms makes this even more problematic. However, we may be able to test the worst case for approx1() on very small graphs. How would you generate all graphs of size 5 for example?\n",
    "Discuss these in your reflection section.\n"
   ]
  },
  {
   "cell_type": "code",
   "execution_count": 24,
   "metadata": {},
   "outputs": [
    {
     "data": {
      "image/png": "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",
      "text/plain": [
       "<Figure size 1400x800 with 1 Axes>"
      ]
     },
     "metadata": {},
     "output_type": "display_data"
    }
   ],
   "source": [
    "import matplotlib.pyplot as plt\n",
    "from itertools import combinations\n",
    "\n",
    "# Assuming GraphIII, MVC, Approx1, Approx2, Approx3 are defined as per your setup\n",
    "\n",
    "def generate_random_graph_III(n, e):\n",
    "    edges = list(combinations(range(n), 2))\n",
    "    selected_edges = random.sample(edges, min(e, len(edges)))\n",
    "    return GraphIII(selected_edges)\n",
    "\n",
    "# Experiment setup\n",
    "edge_sets = [1, 5, 10, 15]\n",
    "num_graphs = 100\n",
    "n = 6  # Number of nodes\n",
    "\n",
    "# Results storage\n",
    "results = {e: {'MVC': [], 'Approx1': [], 'Approx2': [], 'Approx3': []} for e in edge_sets}\n",
    "\n",
    "# Running the experiment\n",
    "for e in edge_sets:\n",
    "    for _ in range(num_graphs):\n",
    "        graph = generate_random_graph_III(n, e)\n",
    "        mvc_size = len(MVC(graph))  # Use your MVC finding function\n",
    "        results[e]['MVC'].append(mvc_size)\n",
    "        results[e]['Approx1'].append(len(Approx1(graph)))\n",
    "        results[e]['Approx2'].append(len(Approx2(graph)))\n",
    "        results[e]['Approx3'].append(len(Approx3(graph)))\n",
    "\n",
    "# Calculating performance\n",
    "performance_analysis = {e: {} for e in edge_sets}\n",
    "for e in edge_sets:\n",
    "    for method in ['Approx1', 'Approx2', 'Approx3']:\n",
    "        method_sizes = results[e][method]\n",
    "        performance_analysis[e][f'{method}_best'] = min(method_sizes)\n",
    "        performance_analysis[e][f'{method}_worst'] = max(method_sizes)\n",
    "        performance_analysis[e][f'{method}_average'] = sum(method_sizes) / len(method_sizes)\n",
    "    mvc_sizes = results[e]['MVC']\n",
    "    mvc_average = sum(mvc_sizes) / len(mvc_sizes)\n",
    "    performance_analysis[e]['MVC_average'] = mvc_average\n",
    "\n",
    "\n",
    "plt.figure(figsize=(14, 8))\n",
    "\n",
    "# Plot average performance\n",
    "for method in ['Approx1', 'Approx2', 'Approx3']:\n",
    "    plt.plot(edge_sets, [performance_analysis[e][f'{method}_average'] / performance_analysis[e]['MVC_average'] for e in edge_sets], \n",
    "             label=f'{method} Average Proportion of MVC', marker='o')\n",
    "\n",
    "# Plot best case performance\n",
    "for method in ['Approx1', 'Approx2', 'Approx3']:\n",
    "    plt.plot(edge_sets, [performance_analysis[e][f'{method}_best'] / performance_analysis[e]['MVC_average'] for e in edge_sets], \n",
    "             label=f'{method} Best Proportion of MVC', linestyle='--', marker='x')\n",
    "\n",
    "# Plot worst case performance\n",
    "for method in ['Approx1', 'Approx2', 'Approx3']:\n",
    "    plt.plot(edge_sets, [performance_analysis[e][f'{method}_worst'] / performance_analysis[e]['MVC_average'] for e in edge_sets], \n",
    "             label=f'{method} Worst Proportion of MVC', linestyle=':', marker='s')\n",
    "\n",
    "# Adding plot titles and labels\n",
    "plt.title('Performance Analysis of Approximation Algorithms for MVC')\n",
    "plt.xlabel('Number of Edges')\n",
    "plt.ylabel('Proportion of MVC Size')\n",
    "\n",
    "# Adding legend\n",
    "plt.legend()\n",
    "\n",
    "# Show grid\n",
    "plt.grid(True)\n",
    "\n",
    "# Display the plot\n",
    "plt.show()\n",
    "\n"
   ]
  },
  {
   "cell_type": "markdown",
   "metadata": {},
   "source": [
    "### Part 2.5\n",
    "Another graph problem is the Independent Set problem. Given a graph G = (V, E) we say S is\n",
    "an Independent Set in G if and only if:\n",
    "#\n",
    "𝑆 ⊆ 𝑉 and ∀𝑢, 𝑣 ∈ 𝑆, (𝑢, 𝑣) ∉ 𝐸\n",
    "#\n",
    "Or S is an Independent Set if there are no edges in G connecting the nodes in S. In general, it is easy to\n",
    "find an Independent Set of G. For example, {} is trivially an Independent Set. It is much harder to find the\n",
    "largest Independent Set in a graph G.\n",
    "#\n",
    "Implement a function MIS(G), which returns a maximum Independent Set in G. Hint, brute force this\n",
    "similar to how we brute forced the MVC problem. But you can use some logic if you want are brave."
   ]
  },
  {
   "cell_type": "code",
   "execution_count": 20,
   "metadata": {},
   "outputs": [],
   "source": [
    "def is_independent_set(graph, subset):\n",
    "    for u in subset:\n",
    "        # Check neighbors of u to ensure none are in the subset\n",
    "        for v in graph.get_neighbors(u):\n",
    "            if u != v and v in subset:\n",
    "                return False\n",
    "    return True\n",
    "\n",
    "def MIS(graph):\n",
    "    \"\"\"Find the Maximum Independent Set (MIS) in the graph.\"\"\"\n",
    "    vertices = graph.get_vertices()\n",
    "    all_subsets = power_set(vertices)\n",
    "    max_set = []\n",
    "\n",
    "    for subset in all_subsets:\n",
    "        if is_independent_set(graph, subset) and len(subset) > len(max_set):\n",
    "            max_set = subset\n",
    "\n",
    "    return max_set\n"
   ]
  },
  {
   "cell_type": "markdown",
   "metadata": {},
   "source": [
    "### Part 2.6\n",
    "\n",
    "Experiment with some random graphs and MIS and MVC. Is there a relationship between the minimum Vertex Cover and the Maximum Independent Set?\n",
    "\n",
    "#\n",
    "Hint: yes. Determine what this relationship is. To get started, generate some random graphs with n nodes. When you sum the size of the MIS and the size of the MVC, what do you observe?"
   ]
  },
  {
   "cell_type": "code",
   "execution_count": 6,
   "metadata": {},
   "outputs": [
    {
     "name": "stdout",
     "output_type": "stream",
     "text": [
      "Average sum of MVC and MIS sizes: 9.97\n"
     ]
<<<<<<< HEAD
=======
    },
    {
    "    total_sum = 0\n",
    "    for _ in range(num_graphs):\n",
    "        edges = generate_random_graph(n, p)\n",
    "        graph = GraphIII(edges)\n",
    "        mvc_size = len(MVC(graph))  # Get the size of the MVC\n",
    "        mis_size = len(MIS(graph))  # Get the size of the MIS\n",
    "        total_sum += mvc_size + mis_size\n",
    "    avg_sum = total_sum / num_graphs\n",
    "    # Here, we expect avg_sum to be close to n, according to the relationship between MIS and MVC\n",
    "    return avg_sum\n",
    "\n",
    "# Adjust the generate_random_graph function if needed to fit with GraphIII\n",
    "import random\n",
    "\n",
    "def generate_random_graph(n, p):\n",
    "    edges = []\n",
    "    for i in range(n):\n",
    "        for j in range(i + 1, n):\n",
    "            if random.random() < p:\n",
    "                edges.append((i, j))\n",
    "    return edges\n",
    "\n",
    "# You can now run the experiment with your parameters\n",
    "num_graphs = 100\n",
    "n = 10  # Number of nodes\n",
    "p = 0.5  # Probability of edge creation\n",
    "avg_sum = experiment(num_graphs, n, p)\n",
    "print(\"Average sum of MVC and MIS sizes:\", avg_sum)"
   ]
  },
  {
   "cell_type": "markdown",
   "metadata": {},
   "source": [
    "### Part 2.7 \n",
    "Inspect the MIS and MVC directly as well. What can you empirically conclude? Provide your\n",
    "observations in the reflection section.\n"
   ]
  },
  {
   "cell_type": "markdown",
   "metadata": {},
   "source": [
    "### Empirical Conclusions on MIS and MVC\n",
    "\n",
    "- **Complementarity**:\n",
    "  - MIS and MVC are complementary within a graph's structure. Vertices not in the MIS form a vertex cover, underscoring a fundamental relationship between these sets.\n",
    "\n",
    "- **Vertex Count Consistency**:\n",
    "  - The sum of the sizes of the MIS and MVC equals the total number of vertices in the graph, reflecting a key theoretical principle in practical scenarios.\n",
    "\n",
    "- **Influence of Graph Density**:\n",
    "  - The density of the graph affects the sizes of MIS and MVC. Sparse graphs tend to have larger MIS, while denser graphs require a larger MVC, indicating how graph topology impacts these sets.\n",
    "\n",
    "- **Computational Complexity**:\n",
    "  - Finding exact MIS and MVC is computationally challenging (NP-hard), highlighting the reliance on approximation algorithms and heuristics in empirical studies.\n",
    "\n",
    "- **Practical Implications**:\n",
    "  - The concepts of MIS and MVC have direct applications in network design, scheduling, and resource allocation, demonstrating the practical value of these theoretical constructs.\n",
    "\n",
    "### Reflection\n",
    "\n",
    "- Through empirical examination, the intricate balance and fundamental principles of MIS and MVC in graph theory are highlighted, bridging theoretical concepts with real-world applications.\n",
    "- The study emphasizes the computational challenges in finding exact MIS and MVC, reflecting on the balance between algorithmic efficiency and solution accuracy.\n",
    "- Insights from empirical analysis of MIS and MVC underscore the relevance of graph theory in addressing complex problems across various domains, offering a foundation for innovative solutions.\n"
   ]
  }
 ],
 "metadata": {
  "kernelspec": {
   "display_name": "base",
   "language": "python",
   "name": "python3"
  },
  "language_info": {
   "codemirror_mode": {
    "name": "ipython",
    "version": 3
   },
   "file_extension": ".py",
   "mimetype": "text/x-python",
   "name": "python",
   "nbconvert_exporter": "python",
   "pygments_lexer": "ipython3",
   "version": "3.10.7"
  }
 },
 "nbformat": 4,
 "nbformat_minor": 2
}
