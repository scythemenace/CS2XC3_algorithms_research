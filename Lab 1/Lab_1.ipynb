{
 "cells": [
  {
   "cell_type": "markdown",
   "metadata": {},
   "source": [
    "# Computer Science 2XC3 -  Lab I"
   ]
  },
  {
   "cell_type": "markdown",
   "metadata": {},
   "source": [
    "The goal of this lab to help you form your groups and understand how to use Jupyter Notebook and Git on your machines. These tools will be essential to write all software individually and in teams. Download this lab assignment from Avenue and complete the below tasks.\n",
    "\n",
    "1. Form a group of 2-3 students within your own lab section. Feel free to use the class MS Teams channel to reach out to potential members. When you post a message on Teams, make sure to include your Lab Section in the message and the number of members you are seeking. You can also ask the TA of your lab section to help you find your group mates. Do not wait until the last minute to do this.\n",
    "\n",
    "1. Discuss within the team, a) the expectations from each member on being a **team player**, as well as an **individual contributor**, b) culture and norms on handling unexpected issues such as health and personal crisis, c) protocols for providing timely and constructive feedback on each other's performance to ensure team success.\n",
    "\n",
    "1. Register your group with the TA by giving them the MAC IDs of all your group members. They will create a group on Avenue, where you will submit this completed document (and all other future documents). Instructions on submission are included at the end of this document.\n",
    "\n",
    "1. Complete the below Team Contract by briefly answering all the questions. **Please ensure that each response reflects the opinions and thoughts of all members with considerable agreement amongst the group members**."
   ]
  },
  {
   "cell_type": "markdown",
   "metadata": {},
   "source": [
    "### Team Contract"
   ]
  },
  {
   "cell_type": "markdown",
   "metadata": {},
   "source": [
    "**Part 1**: What will be your group’s communication protocol? Discuss about the tools/technology that you will use (e.g. email, text, Teams, etc.) and a reasonable timeline of expecting a response? For instance, when there is no submission deadline, replying to an email withing 1-2 business days might be reasonable. However, this delay will hamper team progress when your work is due tonight. Pleas discuss these expectations and your short response below."
   ]
  },
  {
   "cell_type": "markdown",
   "metadata": {},
   "source": [
    "Our group will primarily communicate through Discord. In normal circumstances, we anticipate a response time of 1 business day. However, when approaching deadlines, we aim for a quicker turnaround, expecting replies within 30-40 minutes to ensure efficient progress and timely submissions."
   ]
  },
  {
   "cell_type": "markdown",
   "metadata": {},
   "source": [
    "**Part 2**: Describe below, what would be a reasonable penalty if team members **repeatedly** fail to adhere to the above communication agreement. This penalty is not to single out individuals and penalize them but to ensure that every individual is aware of the consequences of not communicating timely with their team. The penalty you suggest below will be imposed on the entire team in circumstances when individuals fail to communicate with each other."
   ]
  },
  {
   "cell_type": "markdown",
   "metadata": {},
   "source": [
    "\n",
    "A reasonable penalty for repeated failure to adhere to the communication agreement would be impact on the **person's grade who failed to contribute**. If a team member consistently fails to communicate effectively, resulting in incomplete or delayed work, **the mentioned person should not receive marks for the specific labs or assignments affected by the lack of collaboration**. We will keep a log of what work a particular person in the team is doing and if they continuously have a backlog then that specific person would be reported by the majority and shouldn't receive the grade for that lab(or labs) mentioned."
   ]
  },
  {
   "cell_type": "markdown",
   "metadata": {},
   "source": [
    "**Part 3**: Describe below the technology you will use to **collaborate** with each other (e.g Colab, VS code extensions) and **maintain version control** (e.g Git, SVN)."
   ]
  },
  {
   "cell_type": "markdown",
   "metadata": {},
   "source": [
    "For collaborative efforts, our team will utilize VS Code extensions. For communication, file sharing, quick updates on project progress and for virtual meetings and discussions we will use Discord. To maintain version control and ensure a seamless integration of our work, we will rely on GitHub."
   ]
  },
  {
   "cell_type": "markdown",
   "metadata": {},
   "source": [
    "**Part 4**: What would be the team's policy when a team member fails to work due to a legitimate reason (MSAF)? In this class, if a student submits a MSAF for an assessment, the corresponding grade weight will shift to final exam. For instance, if you submit an MSAF for a graded lab with 10% grade weight, your final exam will weigh 40% instead of 30%. \n",
    "\n",
    "However, it is unfair distribution of workload when only a few team members submit the assessment while others MSAF it. Therefore, the lab weight will be shifted for the entire team or will not be shifted for anyone. Please explicitly state what will be your team strategy to respectfully handle such situations. Some options are:\n",
    "\n",
    "-\tThe team submits the assessment, and the person who is MSAF-ing it will take up x% workload for the next assessment.\n",
    "-\tThe team will vote and decide whether to submit or MSAF it.\n"
   ]
  },
  {
   "cell_type": "markdown",
   "metadata": {},
   "source": [
    "Generally, work will be divided in approximately 3 parts or 33.333% withing all our members. In the case that the person fails to do the work, the 33.333% workload will be divided in two and the each of the remaining member would have to take up approx. 16.66667% more work. **So in the case that a particular teammate fails to do work due to a legitimate reason, they will have to take 16.66667% additional workload for the next lab**. Additonally, before applying for MSAF the member must consult with the other teammates."
   ]
  },
  {
   "cell_type": "markdown",
   "metadata": {},
   "source": [
    "**Part 5**: Describe below how would you resolve team disputes. The TA team and me will be available to resolve disputes that are beyond your control. However, the team members should make an honest attempt to respectfully resolve the issue amongst themselved before you email me or the TAs. Please describe below what that attempt would look like"
   ]
  },
  {
   "cell_type": "markdown",
   "metadata": {},
   "source": [
    "Since our team consists of 3 members, in case of disputes between either 2, the remaining member will act as third party and solve the dispute internally by consulting both sides and providing a fair solution. However, incase of disputes between all three members, either the group unanimously decides of the three to be the judge and they will conclude the result of the dispute or a random person who will act as the third party and is trusted by all three members would act as the judge in the matter. In case the matter is out of hand we'll discuss it with the TAs and the professor."
   ]
  },
  {
   "cell_type": "markdown",
   "metadata": {},
   "source": [
    "\n",
    "**Part 6**: In the box below, state any other material you wish to include in your team contract.\n"
   ]
  },
  {
   "cell_type": "markdown",
   "metadata": {},
   "source": []
  },
  {
   "cell_type": "markdown",
   "metadata": {},
   "source": [
    "### Submitting the Notebook"
   ]
  },
  {
   "cell_type": "markdown",
   "metadata": {},
   "source": [
    "**Covert your jupyter notebook into a PDF file and submitted the PDF file**. You will be performing this step to submit ALL your lab work, mid-terms and your final project, so make sure you are able to execute this effciently. Please take help from a TA to understand how to convert a Jupyter Notebook to PDF files. Please try this step ASAP and report any issues you face."
   ]
  },
  {
   "cell_type": "markdown",
   "metadata": {},
   "source": [
    "Please include your team names and Mac Ids in this section.\n",
    "\n",
    "Team Member 1: Ankur Pandey (macid:- pandea23)\n",
    "\n",
    "Team Member 2: Aarav Pant (macid:- panta3)\n",
    "\n",
    "Team Member 3 (optional): Megh Joshi (macid:- joshim20)"
   ]
  }
 ],
 "metadata": {
  "language_info": {
   "name": "python"
  }
 },
 "nbformat": 4,
 "nbformat_minor": 2
}
